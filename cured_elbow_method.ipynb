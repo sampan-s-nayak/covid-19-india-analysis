{
  "nbformat": 4,
  "nbformat_minor": 0,
  "metadata": {
    "colab": {
      "name": "cured-elbow method.ipynb",
      "provenance": [],
      "collapsed_sections": []
    },
    "kernelspec": {
      "name": "python3",
      "display_name": "Python 3"
    }
  },
  "cells": [
    {
      "cell_type": "code",
      "metadata": {
        "id": "eWvFxjBxUORg",
        "outputId": "82a65bc2-3101-47c4-fa71-f54a82e3afde",
        "colab": {
          "base_uri": "https://localhost:8080/",
          "height": 34
        }
      },
      "source": [
        "from google.colab import drive\n",
        "\n",
        "drive.mount('/content/gdrive')"
      ],
      "execution_count": 16,
      "outputs": [
        {
          "output_type": "stream",
          "text": [
            "Drive already mounted at /content/gdrive; to attempt to forcibly remount, call drive.mount(\"/content/gdrive\", force_remount=True).\n"
          ],
          "name": "stdout"
        }
      ]
    },
    {
      "cell_type": "code",
      "metadata": {
        "id": "maaMvuspWIUy"
      },
      "source": [
        "from sklearn.cluster import KMeans \n",
        "from sklearn import metrics \n",
        "from scipy.spatial.distance import cdist \n",
        "import numpy as np \n",
        "import matplotlib.pyplot as plt \n",
        "import pandas as pd"
      ],
      "execution_count": 17,
      "outputs": []
    },
    {
      "cell_type": "code",
      "metadata": {
        "id": "kcPzJPGGUrJL"
      },
      "source": [
        "data_path = '/content/gdrive/My Drive/DS Project/datasets/cured_trendLineCoeff.csv'\n",
        "data = pd.read_csv(data_path)"
      ],
      "execution_count": 18,
      "outputs": []
    },
    {
      "cell_type": "code",
      "metadata": {
        "id": "M4DN5fegV0SU",
        "outputId": "6006b075-51be-4087-ee0d-963e45b8bc90",
        "colab": {
          "base_uri": "https://localhost:8080/",
          "height": 204
        }
      },
      "source": [
        "data.columns = ['index','State/UnionTerrirory','TrendLineCoeff']\n",
        "data.head()\n"
      ],
      "execution_count": 19,
      "outputs": [
        {
          "output_type": "execute_result",
          "data": {
            "text/html": [
              "<div>\n",
              "<style scoped>\n",
              "    .dataframe tbody tr th:only-of-type {\n",
              "        vertical-align: middle;\n",
              "    }\n",
              "\n",
              "    .dataframe tbody tr th {\n",
              "        vertical-align: top;\n",
              "    }\n",
              "\n",
              "    .dataframe thead th {\n",
              "        text-align: right;\n",
              "    }\n",
              "</style>\n",
              "<table border=\"1\" class=\"dataframe\">\n",
              "  <thead>\n",
              "    <tr style=\"text-align: right;\">\n",
              "      <th></th>\n",
              "      <th>index</th>\n",
              "      <th>State/UnionTerrirory</th>\n",
              "      <th>TrendLineCoeff</th>\n",
              "    </tr>\n",
              "  </thead>\n",
              "  <tbody>\n",
              "    <tr>\n",
              "      <th>0</th>\n",
              "      <td>0</td>\n",
              "      <td>Andhra Pradesh</td>\n",
              "      <td>2635.462548</td>\n",
              "    </tr>\n",
              "    <tr>\n",
              "      <th>1</th>\n",
              "      <td>1</td>\n",
              "      <td>Himachal Pradesh</td>\n",
              "      <td>43.999978</td>\n",
              "    </tr>\n",
              "    <tr>\n",
              "      <th>2</th>\n",
              "      <td>2</td>\n",
              "      <td>Odisha</td>\n",
              "      <td>729.289817</td>\n",
              "    </tr>\n",
              "    <tr>\n",
              "      <th>3</th>\n",
              "      <td>3</td>\n",
              "      <td>Madhya Pradesh</td>\n",
              "      <td>450.156489</td>\n",
              "    </tr>\n",
              "    <tr>\n",
              "      <th>4</th>\n",
              "      <td>4</td>\n",
              "      <td>Nagaland</td>\n",
              "      <td>38.851198</td>\n",
              "    </tr>\n",
              "  </tbody>\n",
              "</table>\n",
              "</div>"
            ],
            "text/plain": [
              "   index State/UnionTerrirory  TrendLineCoeff\n",
              "0      0       Andhra Pradesh     2635.462548\n",
              "1      1     Himachal Pradesh       43.999978\n",
              "2      2               Odisha      729.289817\n",
              "3      3       Madhya Pradesh      450.156489\n",
              "4      4             Nagaland       38.851198"
            ]
          },
          "metadata": {
            "tags": []
          },
          "execution_count": 19
        }
      ]
    },
    {
      "cell_type": "code",
      "metadata": {
        "id": "Fynpt6b7dBK5"
      },
      "source": [
        "#Creating the data \n",
        "x1 = np.array(data['index']) \n",
        "x2 = np.array(data['TrendLineCoeff']) \n",
        "x3 = np.array(data['State/UnionTerrirory'])\n",
        "X = np.array(list(zip(x1, x2))).reshape(len(x1), 2) "
      ],
      "execution_count": 20,
      "outputs": []
    },
    {
      "cell_type": "code",
      "metadata": {
        "id": "v0cnMcczdBl8",
        "outputId": "7c41b962-3626-4586-fac5-a2c33b31968d",
        "colab": {
          "base_uri": "https://localhost:8080/",
          "height": 34
        }
      },
      "source": [
        "max(x2),len(x1)"
      ],
      "execution_count": 21,
      "outputs": [
        {
          "output_type": "execute_result",
          "data": {
            "text/plain": [
              "(4581.838098951673, 36)"
            ]
          },
          "metadata": {
            "tags": []
          },
          "execution_count": 21
        }
      ]
    },
    {
      "cell_type": "code",
      "metadata": {
        "id": "mLsAuwaFdD9M",
        "outputId": "f0050046-c74f-47ee-cda5-7e8ea5df4e8f",
        "colab": {
          "base_uri": "https://localhost:8080/",
          "height": 629
        }
      },
      "source": [
        "states_dict = dict(zip(list(x1),list(x3)))\n",
        "states_dict\n"
      ],
      "execution_count": 22,
      "outputs": [
        {
          "output_type": "execute_result",
          "data": {
            "text/plain": [
              "{0: 'Andhra Pradesh',\n",
              " 1: 'Himachal Pradesh',\n",
              " 2: 'Odisha',\n",
              " 3: 'Madhya Pradesh',\n",
              " 4: 'Nagaland',\n",
              " 5: 'Manipur',\n",
              " 6: 'Delhi',\n",
              " 7: 'Mizoram',\n",
              " 8: 'Gujarat',\n",
              " 9: 'Maharashtra',\n",
              " 10: 'Andaman and Nicobar Islands',\n",
              " 11: 'Jammu and Kashmir',\n",
              " 12: 'Kerala',\n",
              " 13: 'Meghalaya',\n",
              " 14: 'Goa',\n",
              " 15: 'West Bengal',\n",
              " 16: 'Ladakh',\n",
              " 17: 'Uttarakhand',\n",
              " 18: 'Haryana',\n",
              " 19: 'Karnataka',\n",
              " 20: 'Puducherry',\n",
              " 21: 'Assam',\n",
              " 22: 'Rajasthan',\n",
              " 23: 'Uttar Pradesh',\n",
              " 24: 'Jharkhand',\n",
              " 25: 'Arunachal Pradesh',\n",
              " 26: 'Chhattisgarh',\n",
              " 27: 'Tamil Nadu',\n",
              " 28: 'Tripura',\n",
              " 29: 'Dadar Nagar Haveli',\n",
              " 30: 'Daman & Diu',\n",
              " 31: 'Sikkim',\n",
              " 32: 'Bihar',\n",
              " 33: 'Telangana',\n",
              " 34: 'Chandigarh',\n",
              " 35: 'Punjab'}"
            ]
          },
          "metadata": {
            "tags": []
          },
          "execution_count": 22
        }
      ]
    },
    {
      "cell_type": "code",
      "metadata": {
        "id": "FAthoD61dGPj",
        "outputId": "10b99592-3f3e-42b1-8160-68cc5cc62499",
        "colab": {
          "base_uri": "https://localhost:8080/",
          "height": 281
        }
      },
      "source": [
        "\n",
        "\n",
        "#Visualizing the data \n",
        "plt.plot() \n",
        "plt.xlim([0, 36]) \n",
        "plt.ylim([0, max(x2)]) \n",
        "plt.title('Dataset') \n",
        "plt.scatter(x1, x2) \n",
        "plt.show() \n"
      ],
      "execution_count": 23,
      "outputs": [
        {
          "output_type": "display_data",
          "data": {
            "image/png": "[encoded data removed]",
            "text/plain": [
              "<Figure size 432x288 with 1 Axes>"
            ]
          },
          "metadata": {
            "tags": [],
            "needs_background": "light"
          }
        }
      ]
    },
    {
      "cell_type": "code",
      "metadata": {
        "id": "LASJcZTHdImM",
        "outputId": "5300c46d-babd-4c1f-a69b-2971d5e9368c",
        "colab": {
          "base_uri": "https://localhost:8080/",
          "height": 170
        }
      },
      "source": [
        "distortions = [] \n",
        "inertias = [] \n",
        "mapping1 = {} \n",
        "mapping2 = {} \n",
        "K = range(1,10) \n",
        "\n",
        "for k in K: \n",
        "\t#Building and fitting the model \n",
        "\tkmeanModel = KMeans(n_clusters=k).fit(X) \n",
        "\tkmeanModel.fit(X)\t \n",
        "\t\n",
        "\tdistortions.append(sum(np.min(cdist(X, kmeanModel.cluster_centers_, \n",
        "\t\t\t\t\t'euclidean'),axis=1)) / X.shape[0]) \n",
        "\tinertias.append(kmeanModel.inertia_) \n",
        "\n",
        "\tmapping1[k] = sum(np.min(cdist(X, kmeanModel.cluster_centers_, \n",
        "\t\t\t\t'euclidean'),axis=1)) / X.shape[0] \n",
        "\tmapping2[k] = kmeanModel.inertia_ \n",
        "\n",
        "for key,val in mapping1.items(): \n",
        "\tprint(str(key)+' : '+str(val)) \n"
      ],
      "execution_count": 24,
      "outputs": [
        {
          "output_type": "stream",
          "text": [
            "1 : 637.8895826117378\n",
            "2 : 363.3215206144833\n",
            "3 : 284.1607243342256\n",
            "4 : 163.91073863195433\n",
            "5 : 110.55840053795002\n",
            "6 : 74.97414482032684\n",
            "7 : 51.883237986832185\n",
            "8 : 43.72410041911934\n",
            "9 : 38.82171620241167\n"
          ],
          "name": "stdout"
        }
      ]
    },
    {
      "cell_type": "code",
      "metadata": {
        "id": "iKz8m6JgdZFO",
        "outputId": "f751a35e-6505-4347-ac0d-11c67696feb7",
        "colab": {
          "base_uri": "https://localhost:8080/",
          "height": 295
        }
      },
      "source": [
        "plt.plot(K, distortions, 'bx-') \n",
        "plt.xlabel('Values of K') \n",
        "plt.ylabel('Distortion') \n",
        "plt.title('The Elbow Method using Distortion') \n",
        "plt.show() \n"
      ],
      "execution_count": 25,
      "outputs": [
        {
          "output_type": "display_data",
          "data": {
            "image/png": "[encoded data removed]",
            "text/plain": [
              "<Figure size 432x288 with 1 Axes>"
            ]
          },
          "metadata": {
            "tags": [],
            "needs_background": "light"
          }
        }
      ]
    },
    {
      "cell_type": "code",
      "metadata": {
        "id": "f2J6XEXbdfNJ",
        "outputId": "166308e8-8f9b-4afd-c062-67465a26415e",
        "colab": {
          "base_uri": "https://localhost:8080/",
          "height": 170
        }
      },
      "source": [
        "for key,val in mapping2.items(): \n",
        "\tprint(str(key)+' : '+str(val)) \n"
      ],
      "execution_count": 26,
      "outputs": [
        {
          "output_type": "stream",
          "text": [
            "1 : 32416166.10675534\n",
            "2 : 8341542.083079639\n",
            "3 : 4580709.742909451\n",
            "4 : 1348656.1674592525\n",
            "5 : 760424.0791136475\n",
            "6 : 454198.53158622474\n",
            "7 : 162734.36327736994\n",
            "8 : 110623.6009658557\n",
            "9 : 81747.37646822169\n"
          ],
          "name": "stdout"
        }
      ]
    },
    {
      "cell_type": "code",
      "metadata": {
        "id": "5YYnSP-rdhRQ",
        "outputId": "2e31fb51-535d-4cfa-bc83-9ed91b6a8c61",
        "colab": {
          "base_uri": "https://localhost:8080/",
          "height": 295
        }
      },
      "source": [
        "plt.plot(K, inertias, 'bx-') \n",
        "plt.xlabel('Values of K') \n",
        "plt.ylabel('Inertia') \n",
        "plt.title('The Elbow Method using Inertia') \n",
        "plt.show() \n"
      ],
      "execution_count": 27,
      "outputs": [
        {
          "output_type": "display_data",
          "data": {
            "image/png": "[encoded data removed]",
            "text/plain": [
              "<Figure size 432x288 with 1 Axes>"
            ]
          },
          "metadata": {
            "tags": [],
            "needs_background": "light"
          }
        }
      ]
    },
    {
      "cell_type": "code",
      "metadata": {
        "id": "QQtQtyuZdjgN"
      },
      "source": [
        ""
      ],
      "execution_count": 27,
      "outputs": []
    },
    {
      "cell_type": "markdown",
      "metadata": {
        "id": "JfOe6HLUdrHw"
      },
      "source": [
        "k=4 here??"
      ]
    },
    {
      "cell_type": "code",
      "metadata": {
        "id": "vi8CKdDrdsNP",
        "outputId": "f0d74c94-8e21-4645-e0ad-f74a21306307",
        "colab": {
          "base_uri": "https://localhost:8080/",
          "height": 51
        }
      },
      "source": [
        "#According to the Elbow graph we deterrmine the k as 4. Applying k-means algorithm to the X dataset.\n",
        "kmeans = KMeans(n_clusters=4, init ='k-means++', max_iter=300, n_init=10,random_state=0 )\n",
        "\n",
        "# We are going to use the fit predict method that returns for each \n",
        "#observation which cluster it belongs to. The cluster to which \n",
        "#client belongs and it will return this cluster numbers into a \n",
        "#single vector that is  called y K-means\n",
        "y_kmeans = kmeans.fit_predict(X)\n",
        "y_kmeans,len(y_kmeans)"
      ],
      "execution_count": 28,
      "outputs": [
        {
          "output_type": "execute_result",
          "data": {
            "text/plain": [
              "(array([2, 0, 3, 0, 0, 0, 3, 0, 3, 1, 0, 0, 0, 0, 0, 3, 0, 0, 0, 2, 0, 3,\n",
              "        0, 3, 0, 0, 0, 2, 0, 0, 0, 0, 3, 3, 0, 0], dtype=int32), 36)"
            ]
          },
          "metadata": {
            "tags": []
          },
          "execution_count": 28
        }
      ]
    },
    {
      "cell_type": "code",
      "metadata": {
        "id": "SU8kmPgpmziq",
        "outputId": "7ab98ece-ad9f-47ea-80e7-3e946ff19c5e",
        "colab": {
          "base_uri": "https://localhost:8080/",
          "height": 629
        }
      },
      "source": [
        "clusters = {}\n",
        "index = 0\n",
        "for cur_cluster in y_kmeans:\n",
        "  clusters[states_dict[index]] = cur_cluster\n",
        "  index += 1\n",
        "clusters"
      ],
      "execution_count": 29,
      "outputs": [
        {
          "output_type": "execute_result",
          "data": {
            "text/plain": [
              "{'Andaman and Nicobar Islands': 0,\n",
              " 'Andhra Pradesh': 2,\n",
              " 'Arunachal Pradesh': 0,\n",
              " 'Assam': 3,\n",
              " 'Bihar': 3,\n",
              " 'Chandigarh': 0,\n",
              " 'Chhattisgarh': 0,\n",
              " 'Dadar Nagar Haveli': 0,\n",
              " 'Daman & Diu': 0,\n",
              " 'Delhi': 3,\n",
              " 'Goa': 0,\n",
              " 'Gujarat': 3,\n",
              " 'Haryana': 0,\n",
              " 'Himachal Pradesh': 0,\n",
              " 'Jammu and Kashmir': 0,\n",
              " 'Jharkhand': 0,\n",
              " 'Karnataka': 2,\n",
              " 'Kerala': 0,\n",
              " 'Ladakh': 0,\n",
              " 'Madhya Pradesh': 0,\n",
              " 'Maharashtra': 1,\n",
              " 'Manipur': 0,\n",
              " 'Meghalaya': 0,\n",
              " 'Mizoram': 0,\n",
              " 'Nagaland': 0,\n",
              " 'Odisha': 3,\n",
              " 'Puducherry': 0,\n",
              " 'Punjab': 0,\n",
              " 'Rajasthan': 0,\n",
              " 'Sikkim': 0,\n",
              " 'Tamil Nadu': 2,\n",
              " 'Telangana': 3,\n",
              " 'Tripura': 0,\n",
              " 'Uttar Pradesh': 3,\n",
              " 'Uttarakhand': 0,\n",
              " 'West Bengal': 3}"
            ]
          },
          "metadata": {
            "tags": []
          },
          "execution_count": 29
        }
      ]
    },
    {
      "cell_type": "code",
      "metadata": {
        "id": "qWKPv5ecnFo5",
        "outputId": "4c65e886-1d0a-43c7-9b34-9b7cb1cf6ee0",
        "colab": {
          "base_uri": "https://localhost:8080/",
          "height": 295
        }
      },
      "source": [
        "#Visualising the clusters\n",
        "plt.scatter(X[y_kmeans==0, 0], X[y_kmeans==0, 1], s=100, c='red', label ='Cluster 1')\n",
        "plt.scatter(X[y_kmeans==1, 0], X[y_kmeans==1, 1], s=100, c='blue', label ='Cluster 2')\n",
        "plt.scatter(X[y_kmeans==2, 0], X[y_kmeans==2, 1], s=100, c='green', label ='Cluster 3')\n",
        "plt.scatter(X[y_kmeans==3, 0], X[y_kmeans==3, 1], s=100, c='cyan', label ='Cluster 4')\n",
        "\n",
        "#Plot the centroid. This time we're going to use the cluster centres  #attribute that returns here the coordinates of the centroid.\n",
        "plt.scatter(kmeans.cluster_centers_[:, 0], kmeans.cluster_centers_[:, 1], s=300, c='yellow', label = 'Centroids')\n",
        "plt.title('Clusters of States')\n",
        "plt.xlabel('States')\n",
        "plt.ylabel('Trendline coeff.')\n",
        "plt.show()"
      ],
      "execution_count": 30,
      "outputs": [
        {
          "output_type": "display_data",
          "data": {
            "image/png": "[encoded data removed]",
            "text/plain": [
              "<Figure size 432x288 with 1 Axes>"
            ]
          },
          "metadata": {
            "tags": [],
            "needs_background": "light"
          }
        }
      ]
    },
    {
      "cell_type": "markdown",
      "metadata": {
        "id": "_isxFz6-neL1"
      },
      "source": [
        "Yellow dots in above fig. are centroids of each clusters"
      ]
    },
    {
      "cell_type": "code",
      "metadata": {
        "id": "_Cf5PnTlnXdE"
      },
      "source": [
        ""
      ],
      "execution_count": null,
      "outputs": []
    }
  ]
}