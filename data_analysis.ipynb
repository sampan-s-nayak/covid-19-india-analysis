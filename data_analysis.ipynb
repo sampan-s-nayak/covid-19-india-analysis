{
  "nbformat": 4,
  "nbformat_minor": 0,
  "metadata": {
    "colab": {
      "name": "data_analysis.ipynb",
      "provenance": [],
      "collapsed_sections": []
    },
    "kernelspec": {
      "name": "python3",
      "display_name": "Python 3"
    }
  },
  "cells": [
    {
      "cell_type": "code",
      "metadata": {
        "id": "HlMtS5JkECU_"
      },
      "source": [
        "import pandas as pd\n",
        "import matplotlib.pyplot as plt\n",
        "import numpy as np\n",
        "import seaborn as sns\n",
        "%matplotlib inline\n",
        "%matplotlib notebook"
      ],
      "execution_count": 1,
      "outputs": []
    },
    {
      "cell_type": "code",
      "metadata": {
        "id": "wyOVJ-MGEIKj",
        "outputId": "4daf77c9-11d9-49de-c379-3e6a2184b982",
        "colab": {
          "base_uri": "https://localhost:8080/",
          "height": 34
        }
      },
      "source": [
        "from google.colab import drive\n",
        "\n",
        "drive.mount('/content/gdrive')"
      ],
      "execution_count": 2,
      "outputs": [
        {
          "output_type": "stream",
          "text": [
            "Mounted at /content/gdrive\n"
          ],
          "name": "stdout"
        }
      ]
    },
    {
      "cell_type": "code",
      "metadata": {
        "id": "acOFqIaFE3wQ"
      },
      "source": [
        "covid19_data = '/content/gdrive/My Drive/DS Project/datasets/covid_19_india_cleaned.csv'\n",
        "individuals_data = '/content/gdrive/My Drive/DS Project/datasets/IndividualDetails.csv'\n",
        "excel_data = '/content/gdrive/My Drive/DS Project/datasets/Indian States Population and Area.xlsx'"
      ],
      "execution_count": 5,
      "outputs": []
    },
    {
      "cell_type": "code",
      "metadata": {
        "id": "8xzkSUzaFm3r"
      },
      "source": [
        "covid19_df = pd.read_csv(covid19_data)\n",
        "individuals_df = pd.read_csv(individuals_data)\n",
        "excel_file = pd.ExcelFile(excel_data)\n",
        "indian_states_df = excel_file.parse('Sheet1')"
      ],
      "execution_count": 6,
      "outputs": []
    },
    {
      "cell_type": "code",
      "metadata": {
        "id": "hLdERZV6Fyfm",
        "outputId": "c99f2e19-03fd-488c-eb96-21d25d5cf984",
        "colab": {
          "base_uri": "https://localhost:8080/",
          "height": 221
        }
      },
      "source": [
        "print(covid19_df.shape)\n",
        "covid19_df.head()"
      ],
      "execution_count": 7,
      "outputs": [
        {
          "output_type": "stream",
          "text": [
            "(7023, 6)\n"
          ],
          "name": "stdout"
        },
        {
          "output_type": "execute_result",
          "data": {
            "text/html": [
              "<div>\n",
              "<style scoped>\n",
              "    .dataframe tbody tr th:only-of-type {\n",
              "        vertical-align: middle;\n",
              "    }\n",
              "\n",
              "    .dataframe tbody tr th {\n",
              "        vertical-align: top;\n",
              "    }\n",
              "\n",
              "    .dataframe thead th {\n",
              "        text-align: right;\n",
              "    }\n",
              "</style>\n",
              "<table border=\"1\" class=\"dataframe\">\n",
              "  <thead>\n",
              "    <tr style=\"text-align: right;\">\n",
              "      <th></th>\n",
              "      <th>Unnamed: 0</th>\n",
              "      <th>Date</th>\n",
              "      <th>State/UnionTerritory</th>\n",
              "      <th>Cured</th>\n",
              "      <th>Deaths</th>\n",
              "      <th>Confirmed</th>\n",
              "    </tr>\n",
              "  </thead>\n",
              "  <tbody>\n",
              "    <tr>\n",
              "      <th>0</th>\n",
              "      <td>0</td>\n",
              "      <td>30/01/20</td>\n",
              "      <td>Kerala</td>\n",
              "      <td>0</td>\n",
              "      <td>0</td>\n",
              "      <td>1</td>\n",
              "    </tr>\n",
              "    <tr>\n",
              "      <th>1</th>\n",
              "      <td>1</td>\n",
              "      <td>31/01/20</td>\n",
              "      <td>Kerala</td>\n",
              "      <td>0</td>\n",
              "      <td>0</td>\n",
              "      <td>1</td>\n",
              "    </tr>\n",
              "    <tr>\n",
              "      <th>2</th>\n",
              "      <td>2</td>\n",
              "      <td>01/02/20</td>\n",
              "      <td>Kerala</td>\n",
              "      <td>0</td>\n",
              "      <td>0</td>\n",
              "      <td>2</td>\n",
              "    </tr>\n",
              "    <tr>\n",
              "      <th>3</th>\n",
              "      <td>3</td>\n",
              "      <td>02/02/20</td>\n",
              "      <td>Kerala</td>\n",
              "      <td>0</td>\n",
              "      <td>0</td>\n",
              "      <td>3</td>\n",
              "    </tr>\n",
              "    <tr>\n",
              "      <th>4</th>\n",
              "      <td>4</td>\n",
              "      <td>03/02/20</td>\n",
              "      <td>Kerala</td>\n",
              "      <td>0</td>\n",
              "      <td>0</td>\n",
              "      <td>3</td>\n",
              "    </tr>\n",
              "  </tbody>\n",
              "</table>\n",
              "</div>"
            ],
            "text/plain": [
              "   Unnamed: 0      Date State/UnionTerritory  Cured  Deaths  Confirmed\n",
              "0           0  30/01/20               Kerala      0       0          1\n",
              "1           1  31/01/20               Kerala      0       0          1\n",
              "2           2  01/02/20               Kerala      0       0          2\n",
              "3           3  02/02/20               Kerala      0       0          3\n",
              "4           4  03/02/20               Kerala      0       0          3"
            ]
          },
          "metadata": {
            "tags": []
          },
          "execution_count": 7
        }
      ]
    },
    {
      "cell_type": "code",
      "metadata": {
        "id": "1PePbejrF1eq",
        "outputId": "3d1e635f-4b6c-4cfe-852a-888d8744eba5",
        "colab": {
          "base_uri": "https://localhost:8080/",
          "height": 479
        }
      },
      "source": [
        "print(individuals_df.shape)\n",
        "individuals_df.head()\n"
      ],
      "execution_count": 8,
      "outputs": [
        {
          "output_type": "stream",
          "text": [
            "(18032, 11)\n"
          ],
          "name": "stdout"
        },
        {
          "output_type": "execute_result",
          "data": {
            "text/html": [
              "<div>\n",
              "<style scoped>\n",
              "    .dataframe tbody tr th:only-of-type {\n",
              "        vertical-align: middle;\n",
              "    }\n",
              "\n",
              "    .dataframe tbody tr th {\n",
              "        vertical-align: top;\n",
              "    }\n",
              "\n",
              "    .dataframe thead th {\n",
              "        text-align: right;\n",
              "    }\n",
              "</style>\n",
              "<table border=\"1\" class=\"dataframe\">\n",
              "  <thead>\n",
              "    <tr style=\"text-align: right;\">\n",
              "      <th></th>\n",
              "      <th>id</th>\n",
              "      <th>government_id</th>\n",
              "      <th>diagnosed_date</th>\n",
              "      <th>age</th>\n",
              "      <th>gender</th>\n",
              "      <th>detected_city</th>\n",
              "      <th>detected_district</th>\n",
              "      <th>detected_state</th>\n",
              "      <th>nationality</th>\n",
              "      <th>status_change_date</th>\n",
              "      <th>notes</th>\n",
              "    </tr>\n",
              "  </thead>\n",
              "  <tbody>\n",
              "    <tr>\n",
              "      <th>0</th>\n",
              "      <td>0</td>\n",
              "      <td>KL-TS-P1</td>\n",
              "      <td>30/01/2020</td>\n",
              "      <td>20</td>\n",
              "      <td>F</td>\n",
              "      <td>Thrissur</td>\n",
              "      <td>Thrissur</td>\n",
              "      <td>Kerala</td>\n",
              "      <td>India</td>\n",
              "      <td>14/02/2020</td>\n",
              "      <td>Travelled from Wuhan</td>\n",
              "    </tr>\n",
              "    <tr>\n",
              "      <th>1</th>\n",
              "      <td>1</td>\n",
              "      <td>KL-AL-P1</td>\n",
              "      <td>02/02/2020</td>\n",
              "      <td>NaN</td>\n",
              "      <td>NaN</td>\n",
              "      <td>Alappuzha</td>\n",
              "      <td>Alappuzha</td>\n",
              "      <td>Kerala</td>\n",
              "      <td>India</td>\n",
              "      <td>14/02/2020</td>\n",
              "      <td>Travelled from Wuhan</td>\n",
              "    </tr>\n",
              "    <tr>\n",
              "      <th>2</th>\n",
              "      <td>2</td>\n",
              "      <td>KL-KS-P1</td>\n",
              "      <td>03/02/2020</td>\n",
              "      <td>NaN</td>\n",
              "      <td>NaN</td>\n",
              "      <td>Kasaragod</td>\n",
              "      <td>Kasaragod</td>\n",
              "      <td>Kerala</td>\n",
              "      <td>India</td>\n",
              "      <td>14/02/2020</td>\n",
              "      <td>Travelled from Wuhan</td>\n",
              "    </tr>\n",
              "    <tr>\n",
              "      <th>3</th>\n",
              "      <td>3</td>\n",
              "      <td>DL-P1</td>\n",
              "      <td>02/03/2020</td>\n",
              "      <td>45</td>\n",
              "      <td>M</td>\n",
              "      <td>East Delhi (Mayur Vihar)</td>\n",
              "      <td>East Delhi</td>\n",
              "      <td>Delhi</td>\n",
              "      <td>India</td>\n",
              "      <td>15/03/2020</td>\n",
              "      <td>Travelled from Austria, Italy</td>\n",
              "    </tr>\n",
              "    <tr>\n",
              "      <th>4</th>\n",
              "      <td>4</td>\n",
              "      <td>TS-P1</td>\n",
              "      <td>02/03/2020</td>\n",
              "      <td>24</td>\n",
              "      <td>M</td>\n",
              "      <td>Hyderabad</td>\n",
              "      <td>Hyderabad</td>\n",
              "      <td>Telangana</td>\n",
              "      <td>India</td>\n",
              "      <td>02/03/2020</td>\n",
              "      <td>Travelled from Dubai to Bangalore on 20th Feb,...</td>\n",
              "    </tr>\n",
              "  </tbody>\n",
              "</table>\n",
              "</div>"
            ],
            "text/plain": [
              "   id  ...                                              notes\n",
              "0   0  ...                               Travelled from Wuhan\n",
              "1   1  ...                               Travelled from Wuhan\n",
              "2   2  ...                               Travelled from Wuhan\n",
              "3   3  ...                      Travelled from Austria, Italy\n",
              "4   4  ...  Travelled from Dubai to Bangalore on 20th Feb,...\n",
              "\n",
              "[5 rows x 11 columns]"
            ]
          },
          "metadata": {
            "tags": []
          },
          "execution_count": 8
        }
      ]
    },
    {
      "cell_type": "code",
      "metadata": {
        "id": "vjU5bgWyF5GP",
        "outputId": "37d9f85e-24ed-4375-fe79-721951b755da",
        "colab": {
          "base_uri": "https://localhost:8080/",
          "height": 221
        }
      },
      "source": [
        "print(indian_states_df.shape)\n",
        "indian_states_df.head()"
      ],
      "execution_count": 9,
      "outputs": [
        {
          "output_type": "stream",
          "text": [
            "(37, 3)\n"
          ],
          "name": "stdout"
        },
        {
          "output_type": "execute_result",
          "data": {
            "text/html": [
              "<div>\n",
              "<style scoped>\n",
              "    .dataframe tbody tr th:only-of-type {\n",
              "        vertical-align: middle;\n",
              "    }\n",
              "\n",
              "    .dataframe tbody tr th {\n",
              "        vertical-align: top;\n",
              "    }\n",
              "\n",
              "    .dataframe thead th {\n",
              "        text-align: right;\n",
              "    }\n",
              "</style>\n",
              "<table border=\"1\" class=\"dataframe\">\n",
              "  <thead>\n",
              "    <tr style=\"text-align: right;\">\n",
              "      <th></th>\n",
              "      <th>State</th>\n",
              "      <th>Aadhaar assigned as of 2019</th>\n",
              "      <th>Area (per sq km)</th>\n",
              "    </tr>\n",
              "  </thead>\n",
              "  <tbody>\n",
              "    <tr>\n",
              "      <th>0</th>\n",
              "      <td>Delhi</td>\n",
              "      <td>21763471</td>\n",
              "      <td>1483</td>\n",
              "    </tr>\n",
              "    <tr>\n",
              "      <th>1</th>\n",
              "      <td>Haryana</td>\n",
              "      <td>28941133</td>\n",
              "      <td>44212</td>\n",
              "    </tr>\n",
              "    <tr>\n",
              "      <th>2</th>\n",
              "      <td>Kerala</td>\n",
              "      <td>36475649</td>\n",
              "      <td>38852</td>\n",
              "    </tr>\n",
              "    <tr>\n",
              "      <th>3</th>\n",
              "      <td>Himachal Pradesh</td>\n",
              "      <td>7560770</td>\n",
              "      <td>55673</td>\n",
              "    </tr>\n",
              "    <tr>\n",
              "      <th>4</th>\n",
              "      <td>Punjab</td>\n",
              "      <td>30355185</td>\n",
              "      <td>50362</td>\n",
              "    </tr>\n",
              "  </tbody>\n",
              "</table>\n",
              "</div>"
            ],
            "text/plain": [
              "              State  Aadhaar assigned as of 2019  Area (per sq km)\n",
              "0             Delhi                     21763471              1483\n",
              "1           Haryana                     28941133             44212\n",
              "2            Kerala                     36475649             38852\n",
              "3  Himachal Pradesh                      7560770             55673\n",
              "4            Punjab                     30355185             50362"
            ]
          },
          "metadata": {
            "tags": []
          },
          "execution_count": 9
        }
      ]
    },
    {
      "cell_type": "code",
      "metadata": {
        "id": "4TxaWnMUGVGH",
        "outputId": "d206a0ac-ed35-4c04-dd97-44f3bdee1c53",
        "colab": {
          "base_uri": "https://localhost:8080/",
          "height": 136
        }
      },
      "source": [
        "covid19_df.isna().sum()"
      ],
      "execution_count": 10,
      "outputs": [
        {
          "output_type": "execute_result",
          "data": {
            "text/plain": [
              "Unnamed: 0              0\n",
              "Date                    0\n",
              "State/UnionTerritory    0\n",
              "Cured                   0\n",
              "Deaths                  0\n",
              "Confirmed               0\n",
              "dtype: int64"
            ]
          },
          "metadata": {
            "tags": []
          },
          "execution_count": 10
        }
      ]
    },
    {
      "cell_type": "code",
      "metadata": {
        "id": "4l1dzsuzHD3b",
        "outputId": "465c39e5-bb81-48f4-967b-3704a6d24403",
        "colab": {
          "base_uri": "https://localhost:8080/",
          "height": 204
        }
      },
      "source": [
        "covid19_df.tail()\n"
      ],
      "execution_count": 11,
      "outputs": [
        {
          "output_type": "execute_result",
          "data": {
            "text/html": [
              "<div>\n",
              "<style scoped>\n",
              "    .dataframe tbody tr th:only-of-type {\n",
              "        vertical-align: middle;\n",
              "    }\n",
              "\n",
              "    .dataframe tbody tr th {\n",
              "        vertical-align: top;\n",
              "    }\n",
              "\n",
              "    .dataframe thead th {\n",
              "        text-align: right;\n",
              "    }\n",
              "</style>\n",
              "<table border=\"1\" class=\"dataframe\">\n",
              "  <thead>\n",
              "    <tr style=\"text-align: right;\">\n",
              "      <th></th>\n",
              "      <th>Unnamed: 0</th>\n",
              "      <th>Date</th>\n",
              "      <th>State/UnionTerritory</th>\n",
              "      <th>Cured</th>\n",
              "      <th>Deaths</th>\n",
              "      <th>Confirmed</th>\n",
              "    </tr>\n",
              "  </thead>\n",
              "  <tbody>\n",
              "    <tr>\n",
              "      <th>7018</th>\n",
              "      <td>7081</td>\n",
              "      <td>07/10/20</td>\n",
              "      <td>Telangana</td>\n",
              "      <td>177008</td>\n",
              "      <td>1189</td>\n",
              "      <td>204748</td>\n",
              "    </tr>\n",
              "    <tr>\n",
              "      <th>7019</th>\n",
              "      <td>7082</td>\n",
              "      <td>07/10/20</td>\n",
              "      <td>Tripura</td>\n",
              "      <td>22623</td>\n",
              "      <td>301</td>\n",
              "      <td>27545</td>\n",
              "    </tr>\n",
              "    <tr>\n",
              "      <th>7020</th>\n",
              "      <td>7083</td>\n",
              "      <td>07/10/20</td>\n",
              "      <td>Uttarakhand</td>\n",
              "      <td>43238</td>\n",
              "      <td>677</td>\n",
              "      <td>52329</td>\n",
              "    </tr>\n",
              "    <tr>\n",
              "      <th>7021</th>\n",
              "      <td>7084</td>\n",
              "      <td>07/10/20</td>\n",
              "      <td>Uttar Pradesh</td>\n",
              "      <td>370753</td>\n",
              "      <td>6153</td>\n",
              "      <td>420937</td>\n",
              "    </tr>\n",
              "    <tr>\n",
              "      <th>7022</th>\n",
              "      <td>7085</td>\n",
              "      <td>07/10/20</td>\n",
              "      <td>West Bengal</td>\n",
              "      <td>243743</td>\n",
              "      <td>5318</td>\n",
              "      <td>277049</td>\n",
              "    </tr>\n",
              "  </tbody>\n",
              "</table>\n",
              "</div>"
            ],
            "text/plain": [
              "      Unnamed: 0      Date State/UnionTerritory   Cured  Deaths  Confirmed\n",
              "7018        7081  07/10/20            Telangana  177008    1189     204748\n",
              "7019        7082  07/10/20              Tripura   22623     301      27545\n",
              "7020        7083  07/10/20          Uttarakhand   43238     677      52329\n",
              "7021        7084  07/10/20        Uttar Pradesh  370753    6153     420937\n",
              "7022        7085  07/10/20          West Bengal  243743    5318     277049"
            ]
          },
          "metadata": {
            "tags": []
          },
          "execution_count": 11
        }
      ]
    },
    {
      "cell_type": "code",
      "metadata": {
        "id": "WVuOYm5fIiYY",
        "outputId": "e9b750d4-a600-467e-bd01-9ce514362717",
        "colab": {
          "base_uri": "https://localhost:8080/",
          "height": 554
        }
      },
      "source": [
        "covid19_df_latest = covid19_df[covid19_df['Date']==\"25/04/20\"]\n",
        "\n",
        "covid19_df_latest = covid19_df_latest.sort_values(by=['Confirmed'], ascending = False)\n",
        "plt.figure(figsize=(12,8), dpi=80)\n",
        "plt.bar(covid19_df_latest['State/UnionTerritory'][:5], covid19_df_latest['Confirmed'][:5],\n",
        "        align='center',color='lightgrey')\n",
        "plt.ylabel('Number of Confirmed Cases', size = 12)\n",
        "plt.title('States with maximum confirmed cases', size = 16)\n",
        "plt.show()"
      ],
      "execution_count": 12,
      "outputs": [
        {
          "output_type": "display_data",
          "data": {
            "image/png": "[encoded data removed]",
            "text/plain": [
              "<Figure size 960x640 with 1 Axes>"
            ]
          },
          "metadata": {
            "tags": [],
            "needs_background": "light"
          }
        }
      ]
    },
    {
      "cell_type": "code",
      "metadata": {
        "id": "Y5LX2llaVfLF",
        "outputId": "9efcb58e-6c9f-4b06-eda0-fa8874e6d2f4",
        "colab": {
          "base_uri": "https://localhost:8080/",
          "height": 34
        }
      },
      "source": [
        "covid19_df_latest['Deaths'].sum()"
      ],
      "execution_count": 13,
      "outputs": [
        {
          "output_type": "execute_result",
          "data": {
            "text/plain": [
              "779"
            ]
          },
          "metadata": {
            "tags": []
          },
          "execution_count": 13
        }
      ]
    },
    {
      "cell_type": "code",
      "metadata": {
        "id": "7nMdU3qMV49P",
        "outputId": "e98c2f91-5010-4046-e9fb-90670b0ffce7",
        "colab": {
          "base_uri": "https://localhost:8080/",
          "height": 359
        }
      },
      "source": [
        "covid19_df_latest['Deaths/Confirmed Cases'] = (covid19_df_latest['Confirmed']/covid19_df_latest['Deaths']).round(2)\n",
        "covid19_df_latest['Deaths/Confirmed Cases'] = [np.nan if x == float(\"inf\") else x for x in covid19_df_latest['Deaths/Confirmed Cases']]\n",
        "covid19_df_latest = covid19_df_latest.sort_values(by=['Deaths/Confirmed Cases'], ascending=True, na_position='last')\n",
        "covid19_df_latest.iloc[:10]"
      ],
      "execution_count": 14,
      "outputs": [
        {
          "output_type": "execute_result",
          "data": {
            "text/html": [
              "<div>\n",
              "<style scoped>\n",
              "    .dataframe tbody tr th:only-of-type {\n",
              "        vertical-align: middle;\n",
              "    }\n",
              "\n",
              "    .dataframe tbody tr th {\n",
              "        vertical-align: top;\n",
              "    }\n",
              "\n",
              "    .dataframe thead th {\n",
              "        text-align: right;\n",
              "    }\n",
              "</style>\n",
              "<table border=\"1\" class=\"dataframe\">\n",
              "  <thead>\n",
              "    <tr style=\"text-align: right;\">\n",
              "      <th></th>\n",
              "      <th>Unnamed: 0</th>\n",
              "      <th>Date</th>\n",
              "      <th>State/UnionTerritory</th>\n",
              "      <th>Cured</th>\n",
              "      <th>Deaths</th>\n",
              "      <th>Confirmed</th>\n",
              "      <th>Deaths/Confirmed Cases</th>\n",
              "    </tr>\n",
              "  </thead>\n",
              "  <tbody>\n",
              "    <tr>\n",
              "      <th>1303</th>\n",
              "      <td>1306</td>\n",
              "      <td>25/04/20</td>\n",
              "      <td>Meghalaya</td>\n",
              "      <td>0</td>\n",
              "      <td>1</td>\n",
              "      <td>12</td>\n",
              "      <td>12.00</td>\n",
              "    </tr>\n",
              "    <tr>\n",
              "      <th>1307</th>\n",
              "      <td>1310</td>\n",
              "      <td>25/04/20</td>\n",
              "      <td>Punjab</td>\n",
              "      <td>67</td>\n",
              "      <td>17</td>\n",
              "      <td>298</td>\n",
              "      <td>17.53</td>\n",
              "    </tr>\n",
              "    <tr>\n",
              "      <th>1296</th>\n",
              "      <td>1299</td>\n",
              "      <td>25/04/20</td>\n",
              "      <td>Jharkhand</td>\n",
              "      <td>9</td>\n",
              "      <td>3</td>\n",
              "      <td>59</td>\n",
              "      <td>19.67</td>\n",
              "    </tr>\n",
              "    <tr>\n",
              "      <th>1300</th>\n",
              "      <td>1303</td>\n",
              "      <td>25/04/20</td>\n",
              "      <td>Madhya Pradesh</td>\n",
              "      <td>210</td>\n",
              "      <td>92</td>\n",
              "      <td>1952</td>\n",
              "      <td>21.22</td>\n",
              "    </tr>\n",
              "    <tr>\n",
              "      <th>1292</th>\n",
              "      <td>1295</td>\n",
              "      <td>25/04/20</td>\n",
              "      <td>Gujarat</td>\n",
              "      <td>265</td>\n",
              "      <td>127</td>\n",
              "      <td>2815</td>\n",
              "      <td>22.17</td>\n",
              "    </tr>\n",
              "    <tr>\n",
              "      <th>1301</th>\n",
              "      <td>1304</td>\n",
              "      <td>25/04/20</td>\n",
              "      <td>Maharashtra</td>\n",
              "      <td>957</td>\n",
              "      <td>301</td>\n",
              "      <td>6817</td>\n",
              "      <td>22.65</td>\n",
              "    </tr>\n",
              "    <tr>\n",
              "      <th>1297</th>\n",
              "      <td>1300</td>\n",
              "      <td>25/04/20</td>\n",
              "      <td>Karnataka</td>\n",
              "      <td>153</td>\n",
              "      <td>18</td>\n",
              "      <td>489</td>\n",
              "      <td>27.17</td>\n",
              "    </tr>\n",
              "    <tr>\n",
              "      <th>1314</th>\n",
              "      <td>1317</td>\n",
              "      <td>25/04/20</td>\n",
              "      <td>West Bengal</td>\n",
              "      <td>103</td>\n",
              "      <td>18</td>\n",
              "      <td>571</td>\n",
              "      <td>31.72</td>\n",
              "    </tr>\n",
              "    <tr>\n",
              "      <th>1284</th>\n",
              "      <td>1287</td>\n",
              "      <td>25/04/20</td>\n",
              "      <td>Andhra Pradesh</td>\n",
              "      <td>171</td>\n",
              "      <td>31</td>\n",
              "      <td>1061</td>\n",
              "      <td>34.23</td>\n",
              "    </tr>\n",
              "    <tr>\n",
              "      <th>1286</th>\n",
              "      <td>1289</td>\n",
              "      <td>25/04/20</td>\n",
              "      <td>Assam</td>\n",
              "      <td>19</td>\n",
              "      <td>1</td>\n",
              "      <td>36</td>\n",
              "      <td>36.00</td>\n",
              "    </tr>\n",
              "  </tbody>\n",
              "</table>\n",
              "</div>"
            ],
            "text/plain": [
              "      Unnamed: 0      Date  ... Confirmed  Deaths/Confirmed Cases\n",
              "1303        1306  25/04/20  ...        12                   12.00\n",
              "1307        1310  25/04/20  ...       298                   17.53\n",
              "1296        1299  25/04/20  ...        59                   19.67\n",
              "1300        1303  25/04/20  ...      1952                   21.22\n",
              "1292        1295  25/04/20  ...      2815                   22.17\n",
              "1301        1304  25/04/20  ...      6817                   22.65\n",
              "1297        1300  25/04/20  ...       489                   27.17\n",
              "1314        1317  25/04/20  ...       571                   31.72\n",
              "1284        1287  25/04/20  ...      1061                   34.23\n",
              "1286        1289  25/04/20  ...        36                   36.00\n",
              "\n",
              "[10 rows x 7 columns]"
            ]
          },
          "metadata": {
            "tags": []
          },
          "execution_count": 14
        }
      ]
    },
    {
      "cell_type": "code",
      "metadata": {
        "id": "jZCmSfM9WQ90",
        "outputId": "cc4926d7-741e-4f74-e87d-362732341709",
        "colab": {
          "base_uri": "https://localhost:8080/",
          "height": 204
        }
      },
      "source": [
        "indian_states_df = indian_states_df[['State', 'Aadhaar assigned as of 2019']]\n",
        "indian_states_df.columns = ['State/UnionTerritory', 'Population']\n",
        "indian_states_df.head()"
      ],
      "execution_count": 15,
      "outputs": [
        {
          "output_type": "execute_result",
          "data": {
            "text/html": [
              "<div>\n",
              "<style scoped>\n",
              "    .dataframe tbody tr th:only-of-type {\n",
              "        vertical-align: middle;\n",
              "    }\n",
              "\n",
              "    .dataframe tbody tr th {\n",
              "        vertical-align: top;\n",
              "    }\n",
              "\n",
              "    .dataframe thead th {\n",
              "        text-align: right;\n",
              "    }\n",
              "</style>\n",
              "<table border=\"1\" class=\"dataframe\">\n",
              "  <thead>\n",
              "    <tr style=\"text-align: right;\">\n",
              "      <th></th>\n",
              "      <th>State/UnionTerritory</th>\n",
              "      <th>Population</th>\n",
              "    </tr>\n",
              "  </thead>\n",
              "  <tbody>\n",
              "    <tr>\n",
              "      <th>0</th>\n",
              "      <td>Delhi</td>\n",
              "      <td>21763471</td>\n",
              "    </tr>\n",
              "    <tr>\n",
              "      <th>1</th>\n",
              "      <td>Haryana</td>\n",
              "      <td>28941133</td>\n",
              "    </tr>\n",
              "    <tr>\n",
              "      <th>2</th>\n",
              "      <td>Kerala</td>\n",
              "      <td>36475649</td>\n",
              "    </tr>\n",
              "    <tr>\n",
              "      <th>3</th>\n",
              "      <td>Himachal Pradesh</td>\n",
              "      <td>7560770</td>\n",
              "    </tr>\n",
              "    <tr>\n",
              "      <th>4</th>\n",
              "      <td>Punjab</td>\n",
              "      <td>30355185</td>\n",
              "    </tr>\n",
              "  </tbody>\n",
              "</table>\n",
              "</div>"
            ],
            "text/plain": [
              "  State/UnionTerritory  Population\n",
              "0                Delhi    21763471\n",
              "1              Haryana    28941133\n",
              "2               Kerala    36475649\n",
              "3     Himachal Pradesh     7560770\n",
              "4               Punjab    30355185"
            ]
          },
          "metadata": {
            "tags": []
          },
          "execution_count": 15
        }
      ]
    },
    {
      "cell_type": "code",
      "metadata": {
        "id": "eUdiFrSbX8Wy",
        "outputId": "ee17c1df-e041-4657-f7be-336f0df1f410",
        "colab": {
          "base_uri": "https://localhost:8080/",
          "height": 221
        }
      },
      "source": [
        "covid19_df_latest = pd.merge(covid19_df_latest, indian_states_df, on=\"State/UnionTerritory\")\n",
        "covid19_df_latest['Cases/10million'] = (covid19_df_latest['Confirmed']/covid19_df_latest['Population'])*10000000\n",
        "covid19_df_latest.head()"
      ],
      "execution_count": 16,
      "outputs": [
        {
          "output_type": "execute_result",
          "data": {
            "text/html": [
              "<div>\n",
              "<style scoped>\n",
              "    .dataframe tbody tr th:only-of-type {\n",
              "        vertical-align: middle;\n",
              "    }\n",
              "\n",
              "    .dataframe tbody tr th {\n",
              "        vertical-align: top;\n",
              "    }\n",
              "\n",
              "    .dataframe thead th {\n",
              "        text-align: right;\n",
              "    }\n",
              "</style>\n",
              "<table border=\"1\" class=\"dataframe\">\n",
              "  <thead>\n",
              "    <tr style=\"text-align: right;\">\n",
              "      <th></th>\n",
              "      <th>Unnamed: 0</th>\n",
              "      <th>Date</th>\n",
              "      <th>State/UnionTerritory</th>\n",
              "      <th>Cured</th>\n",
              "      <th>Deaths</th>\n",
              "      <th>Confirmed</th>\n",
              "      <th>Deaths/Confirmed Cases</th>\n",
              "      <th>Population</th>\n",
              "      <th>Cases/10million</th>\n",
              "    </tr>\n",
              "  </thead>\n",
              "  <tbody>\n",
              "    <tr>\n",
              "      <th>0</th>\n",
              "      <td>1306</td>\n",
              "      <td>25/04/20</td>\n",
              "      <td>Meghalaya</td>\n",
              "      <td>0</td>\n",
              "      <td>1</td>\n",
              "      <td>12</td>\n",
              "      <td>12.00</td>\n",
              "      <td>978281</td>\n",
              "      <td>122.664143</td>\n",
              "    </tr>\n",
              "    <tr>\n",
              "      <th>1</th>\n",
              "      <td>1310</td>\n",
              "      <td>25/04/20</td>\n",
              "      <td>Punjab</td>\n",
              "      <td>67</td>\n",
              "      <td>17</td>\n",
              "      <td>298</td>\n",
              "      <td>17.53</td>\n",
              "      <td>30355185</td>\n",
              "      <td>98.171037</td>\n",
              "    </tr>\n",
              "    <tr>\n",
              "      <th>2</th>\n",
              "      <td>1299</td>\n",
              "      <td>25/04/20</td>\n",
              "      <td>Jharkhand</td>\n",
              "      <td>9</td>\n",
              "      <td>3</td>\n",
              "      <td>59</td>\n",
              "      <td>19.67</td>\n",
              "      <td>34607477</td>\n",
              "      <td>17.048339</td>\n",
              "    </tr>\n",
              "    <tr>\n",
              "      <th>3</th>\n",
              "      <td>1303</td>\n",
              "      <td>25/04/20</td>\n",
              "      <td>Madhya Pradesh</td>\n",
              "      <td>210</td>\n",
              "      <td>92</td>\n",
              "      <td>1952</td>\n",
              "      <td>21.22</td>\n",
              "      <td>74770270</td>\n",
              "      <td>261.066330</td>\n",
              "    </tr>\n",
              "    <tr>\n",
              "      <th>4</th>\n",
              "      <td>1295</td>\n",
              "      <td>25/04/20</td>\n",
              "      <td>Gujarat</td>\n",
              "      <td>265</td>\n",
              "      <td>127</td>\n",
              "      <td>2815</td>\n",
              "      <td>22.17</td>\n",
              "      <td>62097024</td>\n",
              "      <td>453.322852</td>\n",
              "    </tr>\n",
              "  </tbody>\n",
              "</table>\n",
              "</div>"
            ],
            "text/plain": [
              "   Unnamed: 0      Date  ... Population  Cases/10million\n",
              "0        1306  25/04/20  ...     978281       122.664143\n",
              "1        1310  25/04/20  ...   30355185        98.171037\n",
              "2        1299  25/04/20  ...   34607477        17.048339\n",
              "3        1303  25/04/20  ...   74770270       261.066330\n",
              "4        1295  25/04/20  ...   62097024       453.322852\n",
              "\n",
              "[5 rows x 9 columns]"
            ]
          },
          "metadata": {
            "tags": []
          },
          "execution_count": 16
        }
      ]
    },
    {
      "cell_type": "code",
      "metadata": {
        "id": "hslo60PzYYgA",
        "outputId": "1a743d1c-dc10-4ce4-be7d-de1c757092fb",
        "colab": {
          "base_uri": "https://localhost:8080/",
          "height": 965
        }
      },
      "source": [
        "covid19_df_latest.fillna(0, inplace=True)\n",
        "covid19_df_latest.sort_values(by='Cases/10million', ascending=False)"
      ],
      "execution_count": 17,
      "outputs": [
        {
          "output_type": "execute_result",
          "data": {
            "text/html": [
              "<div>\n",
              "<style scoped>\n",
              "    .dataframe tbody tr th:only-of-type {\n",
              "        vertical-align: middle;\n",
              "    }\n",
              "\n",
              "    .dataframe tbody tr th {\n",
              "        vertical-align: top;\n",
              "    }\n",
              "\n",
              "    .dataframe thead th {\n",
              "        text-align: right;\n",
              "    }\n",
              "</style>\n",
              "<table border=\"1\" class=\"dataframe\">\n",
              "  <thead>\n",
              "    <tr style=\"text-align: right;\">\n",
              "      <th></th>\n",
              "      <th>Unnamed: 0</th>\n",
              "      <th>Date</th>\n",
              "      <th>State/UnionTerritory</th>\n",
              "      <th>Cured</th>\n",
              "      <th>Deaths</th>\n",
              "      <th>Confirmed</th>\n",
              "      <th>Deaths/Confirmed Cases</th>\n",
              "      <th>Population</th>\n",
              "      <th>Cases/10million</th>\n",
              "    </tr>\n",
              "  </thead>\n",
              "  <tbody>\n",
              "    <tr>\n",
              "      <th>11</th>\n",
              "      <td>1293</td>\n",
              "      <td>25/04/20</td>\n",
              "      <td>Delhi</td>\n",
              "      <td>857</td>\n",
              "      <td>53</td>\n",
              "      <td>2514</td>\n",
              "      <td>47.43</td>\n",
              "      <td>21763471</td>\n",
              "      <td>1155.146622</td>\n",
              "    </tr>\n",
              "    <tr>\n",
              "      <th>22</th>\n",
              "      <td>1302</td>\n",
              "      <td>25/04/20</td>\n",
              "      <td>Ladakh</td>\n",
              "      <td>14</td>\n",
              "      <td>0</td>\n",
              "      <td>20</td>\n",
              "      <td>0.00</td>\n",
              "      <td>210156</td>\n",
              "      <td>951.673995</td>\n",
              "    </tr>\n",
              "    <tr>\n",
              "      <th>5</th>\n",
              "      <td>1304</td>\n",
              "      <td>25/04/20</td>\n",
              "      <td>Maharashtra</td>\n",
              "      <td>957</td>\n",
              "      <td>301</td>\n",
              "      <td>6817</td>\n",
              "      <td>22.65</td>\n",
              "      <td>114063427</td>\n",
              "      <td>597.649937</td>\n",
              "    </tr>\n",
              "    <tr>\n",
              "      <th>4</th>\n",
              "      <td>1295</td>\n",
              "      <td>25/04/20</td>\n",
              "      <td>Gujarat</td>\n",
              "      <td>265</td>\n",
              "      <td>127</td>\n",
              "      <td>2815</td>\n",
              "      <td>22.17</td>\n",
              "      <td>62097024</td>\n",
              "      <td>453.322852</td>\n",
              "    </tr>\n",
              "    <tr>\n",
              "      <th>13</th>\n",
              "      <td>1311</td>\n",
              "      <td>25/04/20</td>\n",
              "      <td>Rajasthan</td>\n",
              "      <td>230</td>\n",
              "      <td>27</td>\n",
              "      <td>2034</td>\n",
              "      <td>75.33</td>\n",
              "      <td>68936999</td>\n",
              "      <td>295.052008</td>\n",
              "    </tr>\n",
              "    <tr>\n",
              "      <th>3</th>\n",
              "      <td>1303</td>\n",
              "      <td>25/04/20</td>\n",
              "      <td>Madhya Pradesh</td>\n",
              "      <td>210</td>\n",
              "      <td>92</td>\n",
              "      <td>1952</td>\n",
              "      <td>21.22</td>\n",
              "      <td>74770270</td>\n",
              "      <td>261.066330</td>\n",
              "    </tr>\n",
              "    <tr>\n",
              "      <th>21</th>\n",
              "      <td>1291</td>\n",
              "      <td>25/04/20</td>\n",
              "      <td>Chandigarh</td>\n",
              "      <td>15</td>\n",
              "      <td>0</td>\n",
              "      <td>28</td>\n",
              "      <td>0.00</td>\n",
              "      <td>1131522</td>\n",
              "      <td>247.454314</td>\n",
              "    </tr>\n",
              "    <tr>\n",
              "      <th>14</th>\n",
              "      <td>1312</td>\n",
              "      <td>25/04/20</td>\n",
              "      <td>Tamil Nadu</td>\n",
              "      <td>866</td>\n",
              "      <td>22</td>\n",
              "      <td>1755</td>\n",
              "      <td>79.77</td>\n",
              "      <td>72344821</td>\n",
              "      <td>242.588201</td>\n",
              "    </tr>\n",
              "    <tr>\n",
              "      <th>8</th>\n",
              "      <td>1287</td>\n",
              "      <td>25/04/20</td>\n",
              "      <td>Andhra Pradesh</td>\n",
              "      <td>171</td>\n",
              "      <td>31</td>\n",
              "      <td>1061</td>\n",
              "      <td>34.23</td>\n",
              "      <td>49145456</td>\n",
              "      <td>215.889746</td>\n",
              "    </tr>\n",
              "    <tr>\n",
              "      <th>17</th>\n",
              "      <td>1301</td>\n",
              "      <td>25/04/20</td>\n",
              "      <td>Kerala</td>\n",
              "      <td>331</td>\n",
              "      <td>4</td>\n",
              "      <td>451</td>\n",
              "      <td>112.75</td>\n",
              "      <td>36475649</td>\n",
              "      <td>123.644133</td>\n",
              "    </tr>\n",
              "    <tr>\n",
              "      <th>0</th>\n",
              "      <td>1306</td>\n",
              "      <td>25/04/20</td>\n",
              "      <td>Meghalaya</td>\n",
              "      <td>0</td>\n",
              "      <td>1</td>\n",
              "      <td>12</td>\n",
              "      <td>12.00</td>\n",
              "      <td>978281</td>\n",
              "      <td>122.664143</td>\n",
              "    </tr>\n",
              "    <tr>\n",
              "      <th>1</th>\n",
              "      <td>1310</td>\n",
              "      <td>25/04/20</td>\n",
              "      <td>Punjab</td>\n",
              "      <td>67</td>\n",
              "      <td>17</td>\n",
              "      <td>298</td>\n",
              "      <td>17.53</td>\n",
              "      <td>30355185</td>\n",
              "      <td>98.171037</td>\n",
              "    </tr>\n",
              "    <tr>\n",
              "      <th>15</th>\n",
              "      <td>1296</td>\n",
              "      <td>25/04/20</td>\n",
              "      <td>Haryana</td>\n",
              "      <td>156</td>\n",
              "      <td>3</td>\n",
              "      <td>272</td>\n",
              "      <td>90.67</td>\n",
              "      <td>28941133</td>\n",
              "      <td>93.983881</td>\n",
              "    </tr>\n",
              "    <tr>\n",
              "      <th>12</th>\n",
              "      <td>1316</td>\n",
              "      <td>25/04/20</td>\n",
              "      <td>Uttar Pradesh</td>\n",
              "      <td>248</td>\n",
              "      <td>26</td>\n",
              "      <td>1778</td>\n",
              "      <td>68.38</td>\n",
              "      <td>203757489</td>\n",
              "      <td>87.260596</td>\n",
              "    </tr>\n",
              "    <tr>\n",
              "      <th>6</th>\n",
              "      <td>1300</td>\n",
              "      <td>25/04/20</td>\n",
              "      <td>Karnataka</td>\n",
              "      <td>153</td>\n",
              "      <td>18</td>\n",
              "      <td>489</td>\n",
              "      <td>27.17</td>\n",
              "      <td>62462743</td>\n",
              "      <td>78.286668</td>\n",
              "    </tr>\n",
              "    <tr>\n",
              "      <th>7</th>\n",
              "      <td>1317</td>\n",
              "      <td>25/04/20</td>\n",
              "      <td>West Bengal</td>\n",
              "      <td>103</td>\n",
              "      <td>18</td>\n",
              "      <td>571</td>\n",
              "      <td>31.72</td>\n",
              "      <td>91928327</td>\n",
              "      <td>62.113607</td>\n",
              "    </tr>\n",
              "    <tr>\n",
              "      <th>23</th>\n",
              "      <td>1309</td>\n",
              "      <td>25/04/20</td>\n",
              "      <td>Puducherry</td>\n",
              "      <td>3</td>\n",
              "      <td>0</td>\n",
              "      <td>7</td>\n",
              "      <td>0.00</td>\n",
              "      <td>1286189</td>\n",
              "      <td>54.424350</td>\n",
              "    </tr>\n",
              "    <tr>\n",
              "      <th>9</th>\n",
              "      <td>1289</td>\n",
              "      <td>25/04/20</td>\n",
              "      <td>Assam</td>\n",
              "      <td>19</td>\n",
              "      <td>1</td>\n",
              "      <td>36</td>\n",
              "      <td>36.00</td>\n",
              "      <td>6755448</td>\n",
              "      <td>53.290322</td>\n",
              "    </tr>\n",
              "    <tr>\n",
              "      <th>10</th>\n",
              "      <td>1297</td>\n",
              "      <td>25/04/20</td>\n",
              "      <td>Himachal Pradesh</td>\n",
              "      <td>18</td>\n",
              "      <td>1</td>\n",
              "      <td>40</td>\n",
              "      <td>40.00</td>\n",
              "      <td>7560770</td>\n",
              "      <td>52.904664</td>\n",
              "    </tr>\n",
              "    <tr>\n",
              "      <th>24</th>\n",
              "      <td>1294</td>\n",
              "      <td>25/04/20</td>\n",
              "      <td>Goa</td>\n",
              "      <td>7</td>\n",
              "      <td>0</td>\n",
              "      <td>7</td>\n",
              "      <td>0.00</td>\n",
              "      <td>1587012</td>\n",
              "      <td>44.108047</td>\n",
              "    </tr>\n",
              "    <tr>\n",
              "      <th>19</th>\n",
              "      <td>1315</td>\n",
              "      <td>25/04/20</td>\n",
              "      <td>Uttarakhand</td>\n",
              "      <td>25</td>\n",
              "      <td>0</td>\n",
              "      <td>48</td>\n",
              "      <td>0.00</td>\n",
              "      <td>11082791</td>\n",
              "      <td>43.310390</td>\n",
              "    </tr>\n",
              "    <tr>\n",
              "      <th>18</th>\n",
              "      <td>1290</td>\n",
              "      <td>25/04/20</td>\n",
              "      <td>Bihar</td>\n",
              "      <td>46</td>\n",
              "      <td>2</td>\n",
              "      <td>228</td>\n",
              "      <td>114.00</td>\n",
              "      <td>102714667</td>\n",
              "      <td>22.197414</td>\n",
              "    </tr>\n",
              "    <tr>\n",
              "      <th>16</th>\n",
              "      <td>1308</td>\n",
              "      <td>25/04/20</td>\n",
              "      <td>Odisha</td>\n",
              "      <td>33</td>\n",
              "      <td>1</td>\n",
              "      <td>94</td>\n",
              "      <td>94.00</td>\n",
              "      <td>42825628</td>\n",
              "      <td>21.949474</td>\n",
              "    </tr>\n",
              "    <tr>\n",
              "      <th>2</th>\n",
              "      <td>1299</td>\n",
              "      <td>25/04/20</td>\n",
              "      <td>Jharkhand</td>\n",
              "      <td>9</td>\n",
              "      <td>3</td>\n",
              "      <td>59</td>\n",
              "      <td>19.67</td>\n",
              "      <td>34607477</td>\n",
              "      <td>17.048339</td>\n",
              "    </tr>\n",
              "    <tr>\n",
              "      <th>20</th>\n",
              "      <td>1292</td>\n",
              "      <td>25/04/20</td>\n",
              "      <td>Chhattisgarh</td>\n",
              "      <td>30</td>\n",
              "      <td>0</td>\n",
              "      <td>36</td>\n",
              "      <td>0.00</td>\n",
              "      <td>27414422</td>\n",
              "      <td>13.131774</td>\n",
              "    </tr>\n",
              "    <tr>\n",
              "      <th>27</th>\n",
              "      <td>1307</td>\n",
              "      <td>25/04/20</td>\n",
              "      <td>Mizoram</td>\n",
              "      <td>0</td>\n",
              "      <td>0</td>\n",
              "      <td>1</td>\n",
              "      <td>0.00</td>\n",
              "      <td>1089577</td>\n",
              "      <td>9.177874</td>\n",
              "    </tr>\n",
              "    <tr>\n",
              "      <th>28</th>\n",
              "      <td>1288</td>\n",
              "      <td>25/04/20</td>\n",
              "      <td>Arunachal Pradesh</td>\n",
              "      <td>1</td>\n",
              "      <td>0</td>\n",
              "      <td>1</td>\n",
              "      <td>0.00</td>\n",
              "      <td>1229964</td>\n",
              "      <td>8.130319</td>\n",
              "    </tr>\n",
              "    <tr>\n",
              "      <th>25</th>\n",
              "      <td>1305</td>\n",
              "      <td>25/04/20</td>\n",
              "      <td>Manipur</td>\n",
              "      <td>2</td>\n",
              "      <td>0</td>\n",
              "      <td>2</td>\n",
              "      <td>0.00</td>\n",
              "      <td>2515724</td>\n",
              "      <td>7.949998</td>\n",
              "    </tr>\n",
              "    <tr>\n",
              "      <th>26</th>\n",
              "      <td>1314</td>\n",
              "      <td>25/04/20</td>\n",
              "      <td>Tripura</td>\n",
              "      <td>1</td>\n",
              "      <td>0</td>\n",
              "      <td>2</td>\n",
              "      <td>0.00</td>\n",
              "      <td>3672693</td>\n",
              "      <td>5.445595</td>\n",
              "    </tr>\n",
              "  </tbody>\n",
              "</table>\n",
              "</div>"
            ],
            "text/plain": [
              "    Unnamed: 0      Date  ... Population  Cases/10million\n",
              "11        1293  25/04/20  ...   21763471      1155.146622\n",
              "22        1302  25/04/20  ...     210156       951.673995\n",
              "5         1304  25/04/20  ...  114063427       597.649937\n",
              "4         1295  25/04/20  ...   62097024       453.322852\n",
              "13        1311  25/04/20  ...   68936999       295.052008\n",
              "3         1303  25/04/20  ...   74770270       261.066330\n",
              "21        1291  25/04/20  ...    1131522       247.454314\n",
              "14        1312  25/04/20  ...   72344821       242.588201\n",
              "8         1287  25/04/20  ...   49145456       215.889746\n",
              "17        1301  25/04/20  ...   36475649       123.644133\n",
              "0         1306  25/04/20  ...     978281       122.664143\n",
              "1         1310  25/04/20  ...   30355185        98.171037\n",
              "15        1296  25/04/20  ...   28941133        93.983881\n",
              "12        1316  25/04/20  ...  203757489        87.260596\n",
              "6         1300  25/04/20  ...   62462743        78.286668\n",
              "7         1317  25/04/20  ...   91928327        62.113607\n",
              "23        1309  25/04/20  ...    1286189        54.424350\n",
              "9         1289  25/04/20  ...    6755448        53.290322\n",
              "10        1297  25/04/20  ...    7560770        52.904664\n",
              "24        1294  25/04/20  ...    1587012        44.108047\n",
              "19        1315  25/04/20  ...   11082791        43.310390\n",
              "18        1290  25/04/20  ...  102714667        22.197414\n",
              "16        1308  25/04/20  ...   42825628        21.949474\n",
              "2         1299  25/04/20  ...   34607477        17.048339\n",
              "20        1292  25/04/20  ...   27414422        13.131774\n",
              "27        1307  25/04/20  ...    1089577         9.177874\n",
              "28        1288  25/04/20  ...    1229964         8.130319\n",
              "25        1305  25/04/20  ...    2515724         7.949998\n",
              "26        1314  25/04/20  ...    3672693         5.445595\n",
              "\n",
              "[29 rows x 9 columns]"
            ]
          },
          "metadata": {
            "tags": []
          },
          "execution_count": 17
        }
      ]
    },
    {
      "cell_type": "code",
      "metadata": {
        "id": "tjbOD4n5Ypxk",
        "outputId": "66959424-230a-4a69-a76e-55cd3201e167",
        "colab": {
          "base_uri": "https://localhost:8080/",
          "height": 666
        }
      },
      "source": [
        "df = covid19_df_latest[(covid19_df_latest['Confirmed']>=1000) | (covid19_df_latest['Cases/10million']>=200)]\n",
        "plt.figure(figsize=(12,8), dpi=80)\n",
        "plt.scatter(covid19_df_latest['Confirmed'], covid19_df_latest['Cases/10million'], alpha=0.5)\n",
        "plt.xlabel('Number of confirmed Cases', size=12)\n",
        "plt.ylabel('Number of cases per 10 million people', size=12)\n",
        "plt.scatter(df['Confirmed'], df['Cases/10million'], color=\"red\")\n",
        "for i in range(df.shape[0]):\n",
        "    plt.annotate(df['State/UnionTerritory'].tolist()[i], xy=(df['Confirmed'].tolist()[i], df['Cases/10million'].tolist()[i]),\n",
        "                xytext = (df['Confirmed'].tolist()[i]+1.0, df['Cases/10million'].tolist()[i]+12.0), size=11)\n",
        "plt.tight_layout()    \n",
        "plt.title('Visualization to display the variation in COVID 19 figures in different Indian states', size=16)\n",
        "plt.show()"
      ],
      "execution_count": 18,
      "outputs": [
        {
          "output_type": "display_data",
          "data": {
            "image/png": "[encoded data removed]",
            "text/plain": [
              "<Figure size 960x640 with 1 Axes>"
            ]
          },
          "metadata": {
            "tags": [],
            "needs_background": "light"
          }
        }
      ]
    },
    {
      "cell_type": "code",
      "metadata": {
        "id": "OJ2G1HuVZOrd",
        "outputId": "234f4019-e8ee-4328-9372-47625cdda8d2",
        "colab": {
          "base_uri": "https://localhost:8080/",
          "height": 617
        }
      },
      "source": [
        "plt.figure(figsize = (12,8))\n",
        "sns.heatmap(covid19_df_latest.corr(), annot=True)"
      ],
      "execution_count": 19,
      "outputs": [
        {
          "output_type": "execute_result",
          "data": {
            "text/plain": [
              "<matplotlib.axes._subplots.AxesSubplot at 0x7ff9cfa37908>"
            ]
          },
          "metadata": {
            "tags": []
          },
          "execution_count": 19
        },
        {
          "output_type": "display_data",
          "data": {
            "image/png": "[encoded data removed]",
            "text/plain": [
              "<Figure size 864x576 with 2 Axes>"
            ]
          },
          "metadata": {
            "tags": [],
            "needs_background": "light"
          }
        }
      ]
    },
    {
      "cell_type": "code",
      "metadata": {
        "id": "KI16R48abcRC",
        "outputId": "11f406b2-0647-4dc3-828e-57a029ede3f4",
        "colab": {
          "base_uri": "https://localhost:8080/",
          "height": 221
        }
      },
      "source": [
        "individuals_df.isna().sum()\n",
        "individuals_df.iloc[0]"
      ],
      "execution_count": 20,
      "outputs": [
        {
          "output_type": "execute_result",
          "data": {
            "text/plain": [
              "id                                       0\n",
              "government_id                     KL-TS-P1\n",
              "diagnosed_date                  30/01/2020\n",
              "age                                     20\n",
              "gender                                   F\n",
              "detected_city                     Thrissur\n",
              "detected_district                 Thrissur\n",
              "detected_state                      Kerala\n",
              "nationality                          India\n",
              "status_change_date              14/02/2020\n",
              "notes                 Travelled from Wuhan\n",
              "Name: 0, dtype: object"
            ]
          },
          "metadata": {
            "tags": []
          },
          "execution_count": 20
        }
      ]
    },
    {
      "cell_type": "code",
      "metadata": {
        "id": "ze-kNz4kcKtF",
        "outputId": "109dbf61-aaed-478e-988f-281b1278a79a",
        "colab": {
          "base_uri": "https://localhost:8080/",
          "height": 136
        }
      },
      "source": [
        "individuals_grouped_district = individuals_df.groupby('detected_district')\n",
        "individuals_grouped_district = individuals_grouped_district['id']\n",
        "individuals_grouped_district.columns = ['count']\n",
        "individuals_grouped_district.count().sort_values(ascending=False).head()"
      ],
      "execution_count": 21,
      "outputs": [
        {
          "output_type": "execute_result",
          "data": {
            "text/plain": [
              "detected_district\n",
              "Mumbai       2268\n",
              "Ahmadabad    1192\n",
              "Indore        841\n",
              "Pune          591\n",
              "Jaipur        578\n",
              "Name: id, dtype: int64"
            ]
          },
          "metadata": {
            "tags": []
          },
          "execution_count": 21
        }
      ]
    },
    {
      "cell_type": "code",
      "metadata": {
        "id": "Cw8E-v2FceTw",
        "outputId": "9625a088-31f1-46e0-b5d8-607da9d42cd2",
        "colab": {
          "base_uri": "https://localhost:8080/",
          "height": 433
        }
      },
      "source": [
        "individuals_grouped_gender = individuals_df.groupby('gender')\n",
        "individuals_grouped_gender = pd.DataFrame(individuals_grouped_gender.size().reset_index(name = \"count\"))\n",
        "individuals_grouped_gender.head()\n",
        "plt.figure(figsize=(10,6), dpi=80)\n",
        "barlist = plt.bar(individuals_grouped_gender['gender'], individuals_grouped_gender['count'], align = 'center', color='grey', alpha=0.3)\n",
        "barlist[1].set_color('r')\n",
        "plt.ylabel('Count', size=12)\n",
        "plt.title('Count on the basis of gender', size=16)\n",
        "plt.show()"
      ],
      "execution_count": 22,
      "outputs": [
        {
          "output_type": "display_data",
          "data": {
            "image/png": "[encoded data removed]",
            "text/plain": [
              "<Figure size 800x480 with 1 Axes>"
            ]
          },
          "metadata": {
            "tags": [],
            "needs_background": "light"
          }
        }
      ]
    },
    {
      "cell_type": "code",
      "metadata": {
        "id": "Ir8tN9MmcnMd",
        "outputId": "b1d29833-b534-4d0c-a201-3d65e0bc3677",
        "colab": {
          "base_uri": "https://localhost:8080/",
          "height": 204
        }
      },
      "source": [
        "individuals_grouped_date = individuals_df.groupby('diagnosed_date')\n",
        "individuals_grouped_date = pd.DataFrame(individuals_grouped_date.size().reset_index(name = \"count\"))\n",
        "individuals_grouped_date[['Day','Month','Year']] = individuals_grouped_date.diagnosed_date.apply( \n",
        "   lambda x: pd.Series(str(x).split(\"/\")))\n",
        "individuals_grouped_date.sort_values(by=['Year','Month','Day'], inplace = True, ascending = True)\n",
        "individuals_grouped_date.reset_index(inplace = True)\n",
        "individuals_grouped_date['Cumulative Count'] = individuals_grouped_date['count'].cumsum()\n",
        "individuals_grouped_date = individuals_grouped_date.drop(['index', 'Day', 'Month', 'Year'], axis = 1)\n",
        "individuals_grouped_date.head()\n"
      ],
      "execution_count": 23,
      "outputs": [
        {
          "output_type": "execute_result",
          "data": {
            "text/html": [
              "<div>\n",
              "<style scoped>\n",
              "    .dataframe tbody tr th:only-of-type {\n",
              "        vertical-align: middle;\n",
              "    }\n",
              "\n",
              "    .dataframe tbody tr th {\n",
              "        vertical-align: top;\n",
              "    }\n",
              "\n",
              "    .dataframe thead th {\n",
              "        text-align: right;\n",
              "    }\n",
              "</style>\n",
              "<table border=\"1\" class=\"dataframe\">\n",
              "  <thead>\n",
              "    <tr style=\"text-align: right;\">\n",
              "      <th></th>\n",
              "      <th>diagnosed_date</th>\n",
              "      <th>count</th>\n",
              "      <th>Cumulative Count</th>\n",
              "    </tr>\n",
              "  </thead>\n",
              "  <tbody>\n",
              "    <tr>\n",
              "      <th>0</th>\n",
              "      <td>30/01/2020</td>\n",
              "      <td>1</td>\n",
              "      <td>1</td>\n",
              "    </tr>\n",
              "    <tr>\n",
              "      <th>1</th>\n",
              "      <td>02/02/2020</td>\n",
              "      <td>1</td>\n",
              "      <td>2</td>\n",
              "    </tr>\n",
              "    <tr>\n",
              "      <th>2</th>\n",
              "      <td>03/02/2020</td>\n",
              "      <td>1</td>\n",
              "      <td>3</td>\n",
              "    </tr>\n",
              "    <tr>\n",
              "      <th>3</th>\n",
              "      <td>02/03/2020</td>\n",
              "      <td>2</td>\n",
              "      <td>5</td>\n",
              "    </tr>\n",
              "    <tr>\n",
              "      <th>4</th>\n",
              "      <td>03/03/2020</td>\n",
              "      <td>1</td>\n",
              "      <td>6</td>\n",
              "    </tr>\n",
              "  </tbody>\n",
              "</table>\n",
              "</div>"
            ],
            "text/plain": [
              "  diagnosed_date  count  Cumulative Count\n",
              "0     30/01/2020      1                 1\n",
              "1     02/02/2020      1                 2\n",
              "2     03/02/2020      1                 3\n",
              "3     02/03/2020      2                 5\n",
              "4     03/03/2020      1                 6"
            ]
          },
          "metadata": {
            "tags": []
          },
          "execution_count": 23
        }
      ]
    },
    {
      "cell_type": "code",
      "metadata": {
        "id": "hmVwGn00dB0d",
        "outputId": "f39ffb4d-ef66-4569-e94a-060cc83661b8",
        "colab": {
          "base_uri": "https://localhost:8080/",
          "height": 204
        }
      },
      "source": [
        "individuals_grouped_date.tail()"
      ],
      "execution_count": 24,
      "outputs": [
        {
          "output_type": "execute_result",
          "data": {
            "text/html": [
              "<div>\n",
              "<style scoped>\n",
              "    .dataframe tbody tr th:only-of-type {\n",
              "        vertical-align: middle;\n",
              "    }\n",
              "\n",
              "    .dataframe tbody tr th {\n",
              "        vertical-align: top;\n",
              "    }\n",
              "\n",
              "    .dataframe thead th {\n",
              "        text-align: right;\n",
              "    }\n",
              "</style>\n",
              "<table border=\"1\" class=\"dataframe\">\n",
              "  <thead>\n",
              "    <tr style=\"text-align: right;\">\n",
              "      <th></th>\n",
              "      <th>diagnosed_date</th>\n",
              "      <th>count</th>\n",
              "      <th>Cumulative Count</th>\n",
              "    </tr>\n",
              "  </thead>\n",
              "  <tbody>\n",
              "    <tr>\n",
              "      <th>48</th>\n",
              "      <td>16/04/2020</td>\n",
              "      <td>1061</td>\n",
              "      <td>13431</td>\n",
              "    </tr>\n",
              "    <tr>\n",
              "      <th>49</th>\n",
              "      <td>17/04/2020</td>\n",
              "      <td>922</td>\n",
              "      <td>14353</td>\n",
              "    </tr>\n",
              "    <tr>\n",
              "      <th>50</th>\n",
              "      <td>18/04/2020</td>\n",
              "      <td>1371</td>\n",
              "      <td>15724</td>\n",
              "    </tr>\n",
              "    <tr>\n",
              "      <th>51</th>\n",
              "      <td>19/04/2020</td>\n",
              "      <td>1580</td>\n",
              "      <td>17304</td>\n",
              "    </tr>\n",
              "    <tr>\n",
              "      <th>52</th>\n",
              "      <td>20/04/2020</td>\n",
              "      <td>728</td>\n",
              "      <td>18032</td>\n",
              "    </tr>\n",
              "  </tbody>\n",
              "</table>\n",
              "</div>"
            ],
            "text/plain": [
              "   diagnosed_date  count  Cumulative Count\n",
              "48     16/04/2020   1061             13431\n",
              "49     17/04/2020    922             14353\n",
              "50     18/04/2020   1371             15724\n",
              "51     19/04/2020   1580             17304\n",
              "52     20/04/2020    728             18032"
            ]
          },
          "metadata": {
            "tags": []
          },
          "execution_count": 24
        }
      ]
    },
    {
      "cell_type": "code",
      "metadata": {
        "id": "IgHFEjmxdIZm",
        "outputId": "f25a42ac-05a9-49b1-92e0-f01a59541ffc",
        "colab": {
          "base_uri": "https://localhost:8080/",
          "height": 572
        }
      },
      "source": [
        "individuals_grouped_date = individuals_grouped_date.iloc[3:]\n",
        "individuals_grouped_date.reset_index(inplace = True)\n",
        "individuals_grouped_date.columns = ['Day Number', 'diagnosed_date', 'count', 'Cumulative Count']\n",
        "individuals_grouped_date['Day Number'] = individuals_grouped_date['Day Number'] - 2\n",
        "individuals_grouped_date\n",
        "plt.figure(figsize=(12,8), dpi=80)\n",
        "plt.plot(individuals_grouped_date['Day Number'], individuals_grouped_date['Cumulative Count'], color=\"grey\", alpha = 0.5)\n",
        "plt.xlabel('Number of Days', size = 12)\n",
        "plt.ylabel('Number of Cases', size = 12)\n",
        "plt.title('How the case count increased in India', size=16)\n",
        "plt.show()"
      ],
      "execution_count": 25,
      "outputs": [
        {
          "output_type": "display_data",
          "data": {
            "image/png": "[encoded data removed]",
            "text/plain": [
              "<Figure size 960x640 with 1 Axes>"
            ]
          },
          "metadata": {
            "tags": [],
            "needs_background": "light"
          }
        }
      ]
    },
    {
      "cell_type": "code",
      "metadata": {
        "id": "qj8Zfx23LVo6",
        "outputId": "a8a9e8c0-2e3b-480a-c59d-f7aaa2dcbd70",
        "colab": {
          "base_uri": "https://localhost:8080/",
          "height": 419
        }
      },
      "source": [
        "covid19_df"
      ],
      "execution_count": 28,
      "outputs": [
        {
          "output_type": "execute_result",
          "data": {
            "text/html": [
              "<div>\n",
              "<style scoped>\n",
              "    .dataframe tbody tr th:only-of-type {\n",
              "        vertical-align: middle;\n",
              "    }\n",
              "\n",
              "    .dataframe tbody tr th {\n",
              "        vertical-align: top;\n",
              "    }\n",
              "\n",
              "    .dataframe thead th {\n",
              "        text-align: right;\n",
              "    }\n",
              "</style>\n",
              "<table border=\"1\" class=\"dataframe\">\n",
              "  <thead>\n",
              "    <tr style=\"text-align: right;\">\n",
              "      <th></th>\n",
              "      <th>Unnamed: 0</th>\n",
              "      <th>Date</th>\n",
              "      <th>State/UnionTerritory</th>\n",
              "      <th>Cured</th>\n",
              "      <th>Deaths</th>\n",
              "      <th>Confirmed</th>\n",
              "    </tr>\n",
              "  </thead>\n",
              "  <tbody>\n",
              "    <tr>\n",
              "      <th>0</th>\n",
              "      <td>0</td>\n",
              "      <td>30/01/20</td>\n",
              "      <td>Kerala</td>\n",
              "      <td>0</td>\n",
              "      <td>0</td>\n",
              "      <td>1</td>\n",
              "    </tr>\n",
              "    <tr>\n",
              "      <th>1</th>\n",
              "      <td>1</td>\n",
              "      <td>31/01/20</td>\n",
              "      <td>Kerala</td>\n",
              "      <td>0</td>\n",
              "      <td>0</td>\n",
              "      <td>1</td>\n",
              "    </tr>\n",
              "    <tr>\n",
              "      <th>2</th>\n",
              "      <td>2</td>\n",
              "      <td>01/02/20</td>\n",
              "      <td>Kerala</td>\n",
              "      <td>0</td>\n",
              "      <td>0</td>\n",
              "      <td>2</td>\n",
              "    </tr>\n",
              "    <tr>\n",
              "      <th>3</th>\n",
              "      <td>3</td>\n",
              "      <td>02/02/20</td>\n",
              "      <td>Kerala</td>\n",
              "      <td>0</td>\n",
              "      <td>0</td>\n",
              "      <td>3</td>\n",
              "    </tr>\n",
              "    <tr>\n",
              "      <th>4</th>\n",
              "      <td>4</td>\n",
              "      <td>03/02/20</td>\n",
              "      <td>Kerala</td>\n",
              "      <td>0</td>\n",
              "      <td>0</td>\n",
              "      <td>3</td>\n",
              "    </tr>\n",
              "    <tr>\n",
              "      <th>...</th>\n",
              "      <td>...</td>\n",
              "      <td>...</td>\n",
              "      <td>...</td>\n",
              "      <td>...</td>\n",
              "      <td>...</td>\n",
              "      <td>...</td>\n",
              "    </tr>\n",
              "    <tr>\n",
              "      <th>7018</th>\n",
              "      <td>7081</td>\n",
              "      <td>07/10/20</td>\n",
              "      <td>Telangana</td>\n",
              "      <td>177008</td>\n",
              "      <td>1189</td>\n",
              "      <td>204748</td>\n",
              "    </tr>\n",
              "    <tr>\n",
              "      <th>7019</th>\n",
              "      <td>7082</td>\n",
              "      <td>07/10/20</td>\n",
              "      <td>Tripura</td>\n",
              "      <td>22623</td>\n",
              "      <td>301</td>\n",
              "      <td>27545</td>\n",
              "    </tr>\n",
              "    <tr>\n",
              "      <th>7020</th>\n",
              "      <td>7083</td>\n",
              "      <td>07/10/20</td>\n",
              "      <td>Uttarakhand</td>\n",
              "      <td>43238</td>\n",
              "      <td>677</td>\n",
              "      <td>52329</td>\n",
              "    </tr>\n",
              "    <tr>\n",
              "      <th>7021</th>\n",
              "      <td>7084</td>\n",
              "      <td>07/10/20</td>\n",
              "      <td>Uttar Pradesh</td>\n",
              "      <td>370753</td>\n",
              "      <td>6153</td>\n",
              "      <td>420937</td>\n",
              "    </tr>\n",
              "    <tr>\n",
              "      <th>7022</th>\n",
              "      <td>7085</td>\n",
              "      <td>07/10/20</td>\n",
              "      <td>West Bengal</td>\n",
              "      <td>243743</td>\n",
              "      <td>5318</td>\n",
              "      <td>277049</td>\n",
              "    </tr>\n",
              "  </tbody>\n",
              "</table>\n",
              "<p>7023 rows × 6 columns</p>\n",
              "</div>"
            ],
            "text/plain": [
              "      Unnamed: 0      Date State/UnionTerritory   Cured  Deaths  Confirmed\n",
              "0              0  30/01/20               Kerala       0       0          1\n",
              "1              1  31/01/20               Kerala       0       0          1\n",
              "2              2  01/02/20               Kerala       0       0          2\n",
              "3              3  02/02/20               Kerala       0       0          3\n",
              "4              4  03/02/20               Kerala       0       0          3\n",
              "...          ...       ...                  ...     ...     ...        ...\n",
              "7018        7081  07/10/20            Telangana  177008    1189     204748\n",
              "7019        7082  07/10/20              Tripura   22623     301      27545\n",
              "7020        7083  07/10/20          Uttarakhand   43238     677      52329\n",
              "7021        7084  07/10/20        Uttar Pradesh  370753    6153     420937\n",
              "7022        7085  07/10/20          West Bengal  243743    5318     277049\n",
              "\n",
              "[7023 rows x 6 columns]"
            ]
          },
          "metadata": {
            "tags": []
          },
          "execution_count": 28
        }
      ]
    },
    {
      "cell_type": "code",
      "metadata": {
        "id": "HFHWj5xzdV7A",
        "outputId": "ba95e56f-bd5f-447d-ce72-a17e5b26c8c7",
        "colab": {
          "base_uri": "https://localhost:8080/",
          "height": 204
        }
      },
      "source": [
        "covid19_maharashtra = covid19_df[covid19_df['State/UnionTerritory'] == \"Maharashtra\"]\n",
        "covid19_maharashtra.head()\n",
        "covid19_maharashtra.reset_index(inplace = True)\n",
        "covid19_maharashtra = covid19_maharashtra.drop(['index','Cured','Unnamed: 0'],  axis = 1)\n",
        "covid19_maharashtra.reset_index(inplace = True)\n",
        "covid19_maharashtra.head()\n"
      ],
      "execution_count": 36,
      "outputs": [
        {
          "output_type": "execute_result",
          "data": {
            "text/html": [
              "<div>\n",
              "<style scoped>\n",
              "    .dataframe tbody tr th:only-of-type {\n",
              "        vertical-align: middle;\n",
              "    }\n",
              "\n",
              "    .dataframe tbody tr th {\n",
              "        vertical-align: top;\n",
              "    }\n",
              "\n",
              "    .dataframe thead th {\n",
              "        text-align: right;\n",
              "    }\n",
              "</style>\n",
              "<table border=\"1\" class=\"dataframe\">\n",
              "  <thead>\n",
              "    <tr style=\"text-align: right;\">\n",
              "      <th></th>\n",
              "      <th>index</th>\n",
              "      <th>Date</th>\n",
              "      <th>State/UnionTerritory</th>\n",
              "      <th>Deaths</th>\n",
              "      <th>Confirmed</th>\n",
              "    </tr>\n",
              "  </thead>\n",
              "  <tbody>\n",
              "    <tr>\n",
              "      <th>0</th>\n",
              "      <td>0</td>\n",
              "      <td>09/03/20</td>\n",
              "      <td>Maharashtra</td>\n",
              "      <td>0</td>\n",
              "      <td>2</td>\n",
              "    </tr>\n",
              "    <tr>\n",
              "      <th>1</th>\n",
              "      <td>1</td>\n",
              "      <td>10/03/20</td>\n",
              "      <td>Maharashtra</td>\n",
              "      <td>0</td>\n",
              "      <td>5</td>\n",
              "    </tr>\n",
              "    <tr>\n",
              "      <th>2</th>\n",
              "      <td>2</td>\n",
              "      <td>11/03/20</td>\n",
              "      <td>Maharashtra</td>\n",
              "      <td>0</td>\n",
              "      <td>2</td>\n",
              "    </tr>\n",
              "    <tr>\n",
              "      <th>3</th>\n",
              "      <td>3</td>\n",
              "      <td>12/03/20</td>\n",
              "      <td>Maharashtra</td>\n",
              "      <td>0</td>\n",
              "      <td>11</td>\n",
              "    </tr>\n",
              "    <tr>\n",
              "      <th>4</th>\n",
              "      <td>4</td>\n",
              "      <td>13/03/20</td>\n",
              "      <td>Maharashtra</td>\n",
              "      <td>0</td>\n",
              "      <td>14</td>\n",
              "    </tr>\n",
              "  </tbody>\n",
              "</table>\n",
              "</div>"
            ],
            "text/plain": [
              "   index      Date State/UnionTerritory  Deaths  Confirmed\n",
              "0      0  09/03/20          Maharashtra       0          2\n",
              "1      1  10/03/20          Maharashtra       0          5\n",
              "2      2  11/03/20          Maharashtra       0          2\n",
              "3      3  12/03/20          Maharashtra       0         11\n",
              "4      4  13/03/20          Maharashtra       0         14"
            ]
          },
          "metadata": {
            "tags": []
          },
          "execution_count": 36
        }
      ]
    },
    {
      "cell_type": "code",
      "metadata": {
        "id": "lbOPo4w-NnTT",
        "outputId": "36dd9982-5567-4804-fc9d-fc74c50c7bc7",
        "colab": {
          "base_uri": "https://localhost:8080/",
          "height": 221
        }
      },
      "source": [
        "covid19_maharashtra.columns = ['Day Count', 'Date', 'State/UnionTerritory', 'Deaths', 'Confirmed']\n",
        "covid19_maharashtra['Day Count'] = covid19_maharashtra['Day Count'] + 8\n",
        "missing_values = pd.DataFrame({\"Day Count\": [x for x in range(1,8)],\n",
        "                  \"Date\": [\"0\"+str(x)+\"/03/20\" for x in range(2,9)],\n",
        "                  \"State/UnionTerritory\": [\"Maharashtra\"]*7,\n",
        "                  \"Deaths\": [0]*7,\n",
        "                  \"Confirmed\": [0]*7})\n",
        "covid19_maharashtra = covid19_maharashtra.append(missing_values, ignore_index = True)\n",
        "covid19_maharashtra = covid19_maharashtra.sort_values(by=\"Day Count\", ascending = True)\n",
        "covid19_maharashtra.reset_index(drop=True, inplace=True)\n",
        "print(covid19_maharashtra.shape)\n",
        "covid19_maharashtra.tail()"
      ],
      "execution_count": 38,
      "outputs": [
        {
          "output_type": "stream",
          "text": [
            "(227, 5)\n"
          ],
          "name": "stdout"
        },
        {
          "output_type": "execute_result",
          "data": {
            "text/html": [
              "<div>\n",
              "<style scoped>\n",
              "    .dataframe tbody tr th:only-of-type {\n",
              "        vertical-align: middle;\n",
              "    }\n",
              "\n",
              "    .dataframe tbody tr th {\n",
              "        vertical-align: top;\n",
              "    }\n",
              "\n",
              "    .dataframe thead th {\n",
              "        text-align: right;\n",
              "    }\n",
              "</style>\n",
              "<table border=\"1\" class=\"dataframe\">\n",
              "  <thead>\n",
              "    <tr style=\"text-align: right;\">\n",
              "      <th></th>\n",
              "      <th>Day Count</th>\n",
              "      <th>Date</th>\n",
              "      <th>State/UnionTerritory</th>\n",
              "      <th>Deaths</th>\n",
              "      <th>Confirmed</th>\n",
              "    </tr>\n",
              "  </thead>\n",
              "  <tbody>\n",
              "    <tr>\n",
              "      <th>222</th>\n",
              "      <td>224</td>\n",
              "      <td>03/10/20</td>\n",
              "      <td>Maharashtra</td>\n",
              "      <td>37480</td>\n",
              "      <td>1416513</td>\n",
              "    </tr>\n",
              "    <tr>\n",
              "      <th>223</th>\n",
              "      <td>225</td>\n",
              "      <td>04/10/20</td>\n",
              "      <td>Maharashtra</td>\n",
              "      <td>37758</td>\n",
              "      <td>1430861</td>\n",
              "    </tr>\n",
              "    <tr>\n",
              "      <th>224</th>\n",
              "      <td>226</td>\n",
              "      <td>05/10/20</td>\n",
              "      <td>Maharashtra</td>\n",
              "      <td>38084</td>\n",
              "      <td>1443409</td>\n",
              "    </tr>\n",
              "    <tr>\n",
              "      <th>225</th>\n",
              "      <td>227</td>\n",
              "      <td>06/10/20</td>\n",
              "      <td>Maharashtra</td>\n",
              "      <td>38347</td>\n",
              "      <td>1453653</td>\n",
              "    </tr>\n",
              "    <tr>\n",
              "      <th>226</th>\n",
              "      <td>228</td>\n",
              "      <td>07/10/20</td>\n",
              "      <td>Maharashtra</td>\n",
              "      <td>38717</td>\n",
              "      <td>1465911</td>\n",
              "    </tr>\n",
              "  </tbody>\n",
              "</table>\n",
              "</div>"
            ],
            "text/plain": [
              "     Day Count      Date State/UnionTerritory  Deaths  Confirmed\n",
              "222        224  03/10/20          Maharashtra   37480    1416513\n",
              "223        225  04/10/20          Maharashtra   37758    1430861\n",
              "224        226  05/10/20          Maharashtra   38084    1443409\n",
              "225        227  06/10/20          Maharashtra   38347    1453653\n",
              "226        228  07/10/20          Maharashtra   38717    1465911"
            ]
          },
          "metadata": {
            "tags": []
          },
          "execution_count": 38
        }
      ]
    },
    {
      "cell_type": "code",
      "metadata": {
        "id": "fWZF1prQLT1v"
      },
      "source": [
        ""
      ],
      "execution_count": 38,
      "outputs": []
    },
    {
      "cell_type": "code",
      "metadata": {
        "id": "zw97IWL0eRwJ",
        "outputId": "e5c9f9d6-0aff-49f2-d990-40b7e77f87d0",
        "colab": {
          "base_uri": "https://localhost:8080/",
          "height": 221
        }
      },
      "source": [
        "covid19_kerala = covid19_df[covid19_df['State/UnionTerritory'] == \"Kerala\"]\n",
        "covid19_kerala = covid19_kerala.iloc[32:]\n",
        "covid19_kerala.reset_index(inplace = True)\n",
        "covid19_kerala = covid19_kerala.drop(['index','Cured','Unnamed: 0'], axis = 1)\n",
        "covid19_kerala.reset_index(inplace = True)\n",
        "covid19_kerala.columns = ['Day Count', 'Date', 'State/UnionTerritory', 'Deaths', 'Confirmed']\n",
        "covid19_kerala['Day Count'] = covid19_kerala['Day Count'] + 1\n",
        "print(covid19_kerala.shape)\n",
        "covid19_kerala.head()\n"
      ],
      "execution_count": 40,
      "outputs": [
        {
          "output_type": "stream",
          "text": [
            "(220, 5)\n"
          ],
          "name": "stdout"
        },
        {
          "output_type": "execute_result",
          "data": {
            "text/html": [
              "<div>\n",
              "<style scoped>\n",
              "    .dataframe tbody tr th:only-of-type {\n",
              "        vertical-align: middle;\n",
              "    }\n",
              "\n",
              "    .dataframe tbody tr th {\n",
              "        vertical-align: top;\n",
              "    }\n",
              "\n",
              "    .dataframe thead th {\n",
              "        text-align: right;\n",
              "    }\n",
              "</style>\n",
              "<table border=\"1\" class=\"dataframe\">\n",
              "  <thead>\n",
              "    <tr style=\"text-align: right;\">\n",
              "      <th></th>\n",
              "      <th>Day Count</th>\n",
              "      <th>Date</th>\n",
              "      <th>State/UnionTerritory</th>\n",
              "      <th>Deaths</th>\n",
              "      <th>Confirmed</th>\n",
              "    </tr>\n",
              "  </thead>\n",
              "  <tbody>\n",
              "    <tr>\n",
              "      <th>0</th>\n",
              "      <td>1</td>\n",
              "      <td>02/03/20</td>\n",
              "      <td>Kerala</td>\n",
              "      <td>0</td>\n",
              "      <td>3</td>\n",
              "    </tr>\n",
              "    <tr>\n",
              "      <th>1</th>\n",
              "      <td>2</td>\n",
              "      <td>03/03/20</td>\n",
              "      <td>Kerala</td>\n",
              "      <td>0</td>\n",
              "      <td>3</td>\n",
              "    </tr>\n",
              "    <tr>\n",
              "      <th>2</th>\n",
              "      <td>3</td>\n",
              "      <td>04/03/20</td>\n",
              "      <td>Kerala</td>\n",
              "      <td>0</td>\n",
              "      <td>3</td>\n",
              "    </tr>\n",
              "    <tr>\n",
              "      <th>3</th>\n",
              "      <td>4</td>\n",
              "      <td>05/03/20</td>\n",
              "      <td>Kerala</td>\n",
              "      <td>0</td>\n",
              "      <td>3</td>\n",
              "    </tr>\n",
              "    <tr>\n",
              "      <th>4</th>\n",
              "      <td>5</td>\n",
              "      <td>06/03/20</td>\n",
              "      <td>Kerala</td>\n",
              "      <td>0</td>\n",
              "      <td>3</td>\n",
              "    </tr>\n",
              "  </tbody>\n",
              "</table>\n",
              "</div>"
            ],
            "text/plain": [
              "   Day Count      Date State/UnionTerritory  Deaths  Confirmed\n",
              "0          1  02/03/20               Kerala       0          3\n",
              "1          2  03/03/20               Kerala       0          3\n",
              "2          3  04/03/20               Kerala       0          3\n",
              "3          4  05/03/20               Kerala       0          3\n",
              "4          5  06/03/20               Kerala       0          3"
            ]
          },
          "metadata": {
            "tags": []
          },
          "execution_count": 40
        }
      ]
    },
    {
      "cell_type": "code",
      "metadata": {
        "id": "nLBExTGAeR0T",
        "outputId": "ea9cbb9b-7a24-4d01-fce3-9d1c44f8949c",
        "colab": {
          "base_uri": "https://localhost:8080/",
          "height": 221
        }
      },
      "source": [
        "covid19_delhi = covid19_df[covid19_df['State/UnionTerritory'] == 'Delhi']\n",
        "covid19_delhi.reset_index(inplace = True)\n",
        "covid19_delhi = covid19_delhi.drop(['index','Cured','Unnamed: 0'], axis = 1)\n",
        "covid19_delhi.reset_index(inplace = True)\n",
        "covid19_delhi.columns = ['Day Count', 'Date', 'State/UnionTerritory', 'Deaths', 'Confirmed']\n",
        "covid19_delhi['Day Count'] = covid19_delhi['Day Count'] + 1\n",
        "print(covid19_delhi.shape)\n",
        "covid19_delhi.head()"
      ],
      "execution_count": 42,
      "outputs": [
        {
          "output_type": "stream",
          "text": [
            "(220, 5)\n"
          ],
          "name": "stdout"
        },
        {
          "output_type": "execute_result",
          "data": {
            "text/html": [
              "<div>\n",
              "<style scoped>\n",
              "    .dataframe tbody tr th:only-of-type {\n",
              "        vertical-align: middle;\n",
              "    }\n",
              "\n",
              "    .dataframe tbody tr th {\n",
              "        vertical-align: top;\n",
              "    }\n",
              "\n",
              "    .dataframe thead th {\n",
              "        text-align: right;\n",
              "    }\n",
              "</style>\n",
              "<table border=\"1\" class=\"dataframe\">\n",
              "  <thead>\n",
              "    <tr style=\"text-align: right;\">\n",
              "      <th></th>\n",
              "      <th>Day Count</th>\n",
              "      <th>Date</th>\n",
              "      <th>State/UnionTerritory</th>\n",
              "      <th>Deaths</th>\n",
              "      <th>Confirmed</th>\n",
              "    </tr>\n",
              "  </thead>\n",
              "  <tbody>\n",
              "    <tr>\n",
              "      <th>0</th>\n",
              "      <td>1</td>\n",
              "      <td>02/03/20</td>\n",
              "      <td>Delhi</td>\n",
              "      <td>0</td>\n",
              "      <td>1</td>\n",
              "    </tr>\n",
              "    <tr>\n",
              "      <th>1</th>\n",
              "      <td>2</td>\n",
              "      <td>03/03/20</td>\n",
              "      <td>Delhi</td>\n",
              "      <td>0</td>\n",
              "      <td>1</td>\n",
              "    </tr>\n",
              "    <tr>\n",
              "      <th>2</th>\n",
              "      <td>3</td>\n",
              "      <td>04/03/20</td>\n",
              "      <td>Delhi</td>\n",
              "      <td>0</td>\n",
              "      <td>1</td>\n",
              "    </tr>\n",
              "    <tr>\n",
              "      <th>3</th>\n",
              "      <td>4</td>\n",
              "      <td>05/03/20</td>\n",
              "      <td>Delhi</td>\n",
              "      <td>0</td>\n",
              "      <td>2</td>\n",
              "    </tr>\n",
              "    <tr>\n",
              "      <th>4</th>\n",
              "      <td>5</td>\n",
              "      <td>06/03/20</td>\n",
              "      <td>Delhi</td>\n",
              "      <td>0</td>\n",
              "      <td>3</td>\n",
              "    </tr>\n",
              "  </tbody>\n",
              "</table>\n",
              "</div>"
            ],
            "text/plain": [
              "   Day Count      Date State/UnionTerritory  Deaths  Confirmed\n",
              "0          1  02/03/20                Delhi       0          1\n",
              "1          2  03/03/20                Delhi       0          1\n",
              "2          3  04/03/20                Delhi       0          1\n",
              "3          4  05/03/20                Delhi       0          2\n",
              "4          5  06/03/20                Delhi       0          3"
            ]
          },
          "metadata": {
            "tags": []
          },
          "execution_count": 42
        }
      ]
    },
    {
      "cell_type": "code",
      "metadata": {
        "id": "sivlA04ieR4i",
        "outputId": "44a4839b-3ebe-4329-bb11-e5852d88b1a9",
        "colab": {
          "base_uri": "https://localhost:8080/",
          "height": 221
        }
      },
      "source": [
        "covid19_rajasthan = covid19_df[covid19_df['State/UnionTerritory'] == \"Rajasthan\"]\n",
        "covid19_rajasthan.reset_index(inplace = True)\n",
        "covid19_rajasthan = covid19_rajasthan.drop(['index','Cured','Unnamed: 0'], axis = 1)\n",
        "covid19_rajasthan.reset_index(inplace = True)\n",
        "covid19_rajasthan.columns = ['Day Count', 'Date', 'State/UnionTerritory', 'Deaths', 'Confirmed']\n",
        "covid19_rajasthan['Day Count'] = covid19_rajasthan['Day Count'] + 2\n",
        "missing_values = pd.DataFrame({\"Day Count\": [1],\n",
        "                           \"Date\": [\"02/03/20\"],\n",
        "                           \"State/UnionTerritory\": [\"Rajasthan\"],\n",
        "                           \"Deaths\": [0],\n",
        "                           \"Confirmed\": [0]})\n",
        "covid19_rajasthan = covid19_rajasthan.append(missing_values, ignore_index = True)\n",
        "covid19_rajasthan = covid19_rajasthan.sort_values(by=\"Day Count\", ascending = True)\n",
        "covid19_rajasthan.reset_index(drop=True, inplace=True)\n",
        "print(covid19_rajasthan.shape)\n",
        "covid19_rajasthan.head()"
      ],
      "execution_count": 43,
      "outputs": [
        {
          "output_type": "stream",
          "text": [
            "(220, 5)\n"
          ],
          "name": "stdout"
        },
        {
          "output_type": "execute_result",
          "data": {
            "text/html": [
              "<div>\n",
              "<style scoped>\n",
              "    .dataframe tbody tr th:only-of-type {\n",
              "        vertical-align: middle;\n",
              "    }\n",
              "\n",
              "    .dataframe tbody tr th {\n",
              "        vertical-align: top;\n",
              "    }\n",
              "\n",
              "    .dataframe thead th {\n",
              "        text-align: right;\n",
              "    }\n",
              "</style>\n",
              "<table border=\"1\" class=\"dataframe\">\n",
              "  <thead>\n",
              "    <tr style=\"text-align: right;\">\n",
              "      <th></th>\n",
              "      <th>Day Count</th>\n",
              "      <th>Date</th>\n",
              "      <th>State/UnionTerritory</th>\n",
              "      <th>Deaths</th>\n",
              "      <th>Confirmed</th>\n",
              "    </tr>\n",
              "  </thead>\n",
              "  <tbody>\n",
              "    <tr>\n",
              "      <th>0</th>\n",
              "      <td>1</td>\n",
              "      <td>02/03/20</td>\n",
              "      <td>Rajasthan</td>\n",
              "      <td>0</td>\n",
              "      <td>0</td>\n",
              "    </tr>\n",
              "    <tr>\n",
              "      <th>1</th>\n",
              "      <td>2</td>\n",
              "      <td>03/03/20</td>\n",
              "      <td>Rajasthan</td>\n",
              "      <td>0</td>\n",
              "      <td>1</td>\n",
              "    </tr>\n",
              "    <tr>\n",
              "      <th>2</th>\n",
              "      <td>3</td>\n",
              "      <td>04/03/20</td>\n",
              "      <td>Rajasthan</td>\n",
              "      <td>0</td>\n",
              "      <td>15</td>\n",
              "    </tr>\n",
              "    <tr>\n",
              "      <th>3</th>\n",
              "      <td>4</td>\n",
              "      <td>05/03/20</td>\n",
              "      <td>Rajasthan</td>\n",
              "      <td>0</td>\n",
              "      <td>15</td>\n",
              "    </tr>\n",
              "    <tr>\n",
              "      <th>4</th>\n",
              "      <td>5</td>\n",
              "      <td>06/03/20</td>\n",
              "      <td>Rajasthan</td>\n",
              "      <td>0</td>\n",
              "      <td>15</td>\n",
              "    </tr>\n",
              "  </tbody>\n",
              "</table>\n",
              "</div>"
            ],
            "text/plain": [
              "   Day Count      Date State/UnionTerritory  Deaths  Confirmed\n",
              "0          1  02/03/20            Rajasthan       0          0\n",
              "1          2  03/03/20            Rajasthan       0          1\n",
              "2          3  04/03/20            Rajasthan       0         15\n",
              "3          4  05/03/20            Rajasthan       0         15\n",
              "4          5  06/03/20            Rajasthan       0         15"
            ]
          },
          "metadata": {
            "tags": []
          },
          "execution_count": 43
        }
      ]
    },
    {
      "cell_type": "code",
      "metadata": {
        "id": "wI24F6-Me8fT",
        "outputId": "87aa11bd-67d1-4be9-aa07-a4ca2e14099e",
        "colab": {
          "base_uri": "https://localhost:8080/",
          "height": 221
        }
      },
      "source": [
        "covid19_gujarat = covid19_df[covid19_df['State/UnionTerritory'] == \"Gujarat\"]\n",
        "covid19_gujarat.reset_index(inplace = True)\n",
        "covid19_gujarat = covid19_gujarat.drop(['index','Unnamed: 0','Cured'], axis = 1)\n",
        "covid19_gujarat.reset_index(inplace = True)\n",
        "covid19_gujarat.columns = ['Day Count', 'Date', 'State/UnionTerritory', 'Deaths', 'Confirmed']\n",
        "covid19_gujarat['Day Count'] = covid19_gujarat['Day Count'] + 19\n",
        "missing_values = pd.DataFrame({\"Day Count\": [x for x in range(1,19)],\n",
        "                           \"Date\": [(\"0\" + str(x) if x < 10 else str(x))+\"/03/20\" for x in range(2,20)],\n",
        "                           \"State/UnionTerritory\": [\"Gujarat\"]*18,\n",
        "                           \"Deaths\": [0]*18,\n",
        "                           \"Confirmed\": [0]*18})\n",
        "covid19_gujarat = covid19_gujarat.append(missing_values, ignore_index = True)\n",
        "covid19_gujarat = covid19_gujarat.sort_values(by=\"Day Count\", ascending = True)\n",
        "covid19_gujarat.reset_index(drop=True, inplace=True)\n",
        "print(covid19_gujarat.shape)\n",
        "covid19_gujarat.head()"
      ],
      "execution_count": 44,
      "outputs": [
        {
          "output_type": "stream",
          "text": [
            "(220, 5)\n"
          ],
          "name": "stdout"
        },
        {
          "output_type": "execute_result",
          "data": {
            "text/html": [
              "<div>\n",
              "<style scoped>\n",
              "    .dataframe tbody tr th:only-of-type {\n",
              "        vertical-align: middle;\n",
              "    }\n",
              "\n",
              "    .dataframe tbody tr th {\n",
              "        vertical-align: top;\n",
              "    }\n",
              "\n",
              "    .dataframe thead th {\n",
              "        text-align: right;\n",
              "    }\n",
              "</style>\n",
              "<table border=\"1\" class=\"dataframe\">\n",
              "  <thead>\n",
              "    <tr style=\"text-align: right;\">\n",
              "      <th></th>\n",
              "      <th>Day Count</th>\n",
              "      <th>Date</th>\n",
              "      <th>State/UnionTerritory</th>\n",
              "      <th>Deaths</th>\n",
              "      <th>Confirmed</th>\n",
              "    </tr>\n",
              "  </thead>\n",
              "  <tbody>\n",
              "    <tr>\n",
              "      <th>0</th>\n",
              "      <td>1</td>\n",
              "      <td>02/03/20</td>\n",
              "      <td>Gujarat</td>\n",
              "      <td>0</td>\n",
              "      <td>0</td>\n",
              "    </tr>\n",
              "    <tr>\n",
              "      <th>1</th>\n",
              "      <td>2</td>\n",
              "      <td>03/03/20</td>\n",
              "      <td>Gujarat</td>\n",
              "      <td>0</td>\n",
              "      <td>0</td>\n",
              "    </tr>\n",
              "    <tr>\n",
              "      <th>2</th>\n",
              "      <td>3</td>\n",
              "      <td>04/03/20</td>\n",
              "      <td>Gujarat</td>\n",
              "      <td>0</td>\n",
              "      <td>0</td>\n",
              "    </tr>\n",
              "    <tr>\n",
              "      <th>3</th>\n",
              "      <td>4</td>\n",
              "      <td>05/03/20</td>\n",
              "      <td>Gujarat</td>\n",
              "      <td>0</td>\n",
              "      <td>0</td>\n",
              "    </tr>\n",
              "    <tr>\n",
              "      <th>4</th>\n",
              "      <td>5</td>\n",
              "      <td>06/03/20</td>\n",
              "      <td>Gujarat</td>\n",
              "      <td>0</td>\n",
              "      <td>0</td>\n",
              "    </tr>\n",
              "  </tbody>\n",
              "</table>\n",
              "</div>"
            ],
            "text/plain": [
              "   Day Count      Date State/UnionTerritory  Deaths  Confirmed\n",
              "0          1  02/03/20              Gujarat       0          0\n",
              "1          2  03/03/20              Gujarat       0          0\n",
              "2          3  04/03/20              Gujarat       0          0\n",
              "3          4  05/03/20              Gujarat       0          0\n",
              "4          5  06/03/20              Gujarat       0          0"
            ]
          },
          "metadata": {
            "tags": []
          },
          "execution_count": 44
        }
      ]
    },
    {
      "cell_type": "code",
      "metadata": {
        "id": "NaaRCE03dnzP",
        "outputId": "7962caf5-41dd-4715-f286-6e196359a819",
        "colab": {
          "base_uri": "https://localhost:8080/",
          "height": 572
        }
      },
      "source": [
        "plt.figure(figsize=(12,8), dpi=80)\n",
        "plt.plot(covid19_kerala['Day Count'], covid19_kerala['Confirmed'])\n",
        "plt.plot(covid19_maharashtra['Day Count'], covid19_maharashtra['Confirmed'])\n",
        "plt.plot(covid19_delhi['Day Count'], covid19_delhi['Confirmed'])\n",
        "plt.plot(covid19_rajasthan['Day Count'], covid19_rajasthan['Confirmed'])\n",
        "plt.plot(covid19_gujarat['Day Count'], covid19_gujarat['Confirmed'])\n",
        "plt.legend(['Kerala', 'Maharashtra', 'Delhi', 'Rajasthan', 'Gujarat'], loc='upper left')\n",
        "plt.xlabel('Day Count', size=12)\n",
        "plt.ylabel('Confirmed Cases Count', size=12)\n",
        "plt.title('Which states are flattening the curve ?', size = 16)\n",
        "plt.show()"
      ],
      "execution_count": 45,
      "outputs": [
        {
          "output_type": "display_data",
          "data": {
            "image/png": "[encoded data removed]",
            "text/plain": [
              "<Figure size 960x640 with 1 Axes>"
            ]
          },
          "metadata": {
            "tags": [],
            "needs_background": "light"
          }
        }
      ]
    },
    {
      "cell_type": "code",
      "metadata": {
        "id": "CYdwHrjWe5Il"
      },
      "source": [
        ""
      ],
      "execution_count": null,
      "outputs": []
    },
    {
      "cell_type": "code",
      "metadata": {
        "id": "NvTxgziTd64g"
      },
      "source": [
        ""
      ],
      "execution_count": null,
      "outputs": []
    }
  ]
}