{
 "cells": [
  {
   "cell_type": "code",
   "execution_count": 40,
   "metadata": {
    "colab": {
     "base_uri": "https://localhost:8080/",
     "height": 34
    },
    "id": "vJnYhfZ8UQBW",
    "outputId": "37d137da-77a0-403b-db39-f9f99aaf038c"
   },
   "outputs": [
    {
     "name": "stdout",
     "output_type": "stream",
     "text": [
      "Drive already mounted at /content/gdrive; to attempt to forcibly remount, call drive.mount(\"/content/gdrive\", force_remount=True).\n"
     ]
    }
   ],
   "source": [
    "from google.colab import drive\n",
    "\n",
    "drive.mount('/content/gdrive')"
   ]
  },
  {
   "cell_type": "code",
   "execution_count": 41,
   "metadata": {
    "id": "3kbJRi7FWGBm"
   },
   "outputs": [],
   "source": [
    "from sklearn.cluster import KMeans \n",
    "from sklearn import metrics \n",
    "from scipy.spatial.distance import cdist \n",
    "import numpy as np \n",
    "import matplotlib.pyplot as plt \n",
    "import pandas as pd"
   ]
  },
  {
   "cell_type": "code",
   "execution_count": 42,
   "metadata": {
    "id": "v-wycHO8Uc3p"
   },
   "outputs": [],
   "source": [
    "data_path = '/content/gdrive/My Drive/DS Project/datasets/deaths_trendLineCoeff.csv'\n",
    "data = pd.read_csv(data_path)"
   ]
  },
  {
   "cell_type": "code",
   "execution_count": 43,
   "metadata": {
    "colab": {
     "base_uri": "https://localhost:8080/",
     "height": 204
    },
    "id": "Iqg4ou3CWmdE",
    "outputId": "96642499-4162-4442-a4e5-279f8c182641"
   },
   "outputs": [
    {
     "data": {
      "text/html": [
       "<div>\n",
       "<style scoped>\n",
       "    .dataframe tbody tr th:only-of-type {\n",
       "        vertical-align: middle;\n",
       "    }\n",
       "\n",
       "    .dataframe tbody tr th {\n",
       "        vertical-align: top;\n",
       "    }\n",
       "\n",
       "    .dataframe thead th {\n",
       "        text-align: right;\n",
       "    }\n",
       "</style>\n",
       "<table border=\"1\" class=\"dataframe\">\n",
       "  <thead>\n",
       "    <tr style=\"text-align: right;\">\n",
       "      <th></th>\n",
       "      <th>index</th>\n",
       "      <th>State/UnionTerrirory</th>\n",
       "      <th>TrendLineCoeff</th>\n",
       "    </tr>\n",
       "  </thead>\n",
       "  <tbody>\n",
       "    <tr>\n",
       "      <th>0</th>\n",
       "      <td>0</td>\n",
       "      <td>Andhra Pradesh</td>\n",
       "      <td>27.855346</td>\n",
       "    </tr>\n",
       "    <tr>\n",
       "      <th>1</th>\n",
       "      <td>1</td>\n",
       "      <td>Himachal Pradesh</td>\n",
       "      <td>0.610519</td>\n",
       "    </tr>\n",
       "    <tr>\n",
       "      <th>2</th>\n",
       "      <td>2</td>\n",
       "      <td>Odisha</td>\n",
       "      <td>3.857515</td>\n",
       "    </tr>\n",
       "    <tr>\n",
       "      <th>3</th>\n",
       "      <td>3</td>\n",
       "      <td>Madhya Pradesh</td>\n",
       "      <td>11.014560</td>\n",
       "    </tr>\n",
       "    <tr>\n",
       "      <th>4</th>\n",
       "      <td>4</td>\n",
       "      <td>Nagaland</td>\n",
       "      <td>0.132035</td>\n",
       "    </tr>\n",
       "  </tbody>\n",
       "</table>\n",
       "</div>"
      ],
      "text/plain": [
       "   index State/UnionTerrirory  TrendLineCoeff\n",
       "0      0       Andhra Pradesh       27.855346\n",
       "1      1     Himachal Pradesh        0.610519\n",
       "2      2               Odisha        3.857515\n",
       "3      3       Madhya Pradesh       11.014560\n",
       "4      4             Nagaland        0.132035"
      ]
     },
     "execution_count": 43,
     "metadata": {
      "tags": []
     },
     "output_type": "execute_result"
    }
   ],
   "source": [
    "data.columns = ['index','State/UnionTerrirory','TrendLineCoeff']\n",
    "data.head()\n"
   ]
  },
  {
   "cell_type": "code",
   "execution_count": 44,
   "metadata": {
    "id": "nlT-1IdrWxvU"
   },
   "outputs": [],
   "source": [
    "#Creating the data \n",
    "x1 = np.array(data['index']) \n",
    "x2 = np.array(data['TrendLineCoeff']) \n",
    "x3 = np.array(data['State/UnionTerrirory'])\n",
    "X = np.array(list(zip(x1, x2))).reshape(len(x1), 2) "
   ]
  },
  {
   "cell_type": "code",
   "execution_count": 45,
   "metadata": {
    "colab": {
     "base_uri": "https://localhost:8080/",
     "height": 34
    },
    "id": "A5XL9EZ1W2wk",
    "outputId": "f829dbdc-14d8-493f-e9c5-77dec3658456"
   },
   "outputs": [
    {
     "data": {
      "text/plain": [
       "(179.94506644877194, 36)"
      ]
     },
     "execution_count": 45,
     "metadata": {
      "tags": []
     },
     "output_type": "execute_result"
    }
   ],
   "source": [
    "max(x2),len(x1)"
   ]
  },
  {
   "cell_type": "code",
   "execution_count": 46,
   "metadata": {
    "colab": {
     "base_uri": "https://localhost:8080/",
     "height": 629
    },
    "id": "stsrjugxaM-6",
    "outputId": "4e811eb1-d884-45f1-96c9-6312f99e0b3a"
   },
   "outputs": [
    {
     "data": {
      "text/plain": [
       "{0: 'Andhra Pradesh',\n",
       " 1: 'Himachal Pradesh',\n",
       " 2: 'Odisha',\n",
       " 3: 'Madhya Pradesh',\n",
       " 4: 'Nagaland',\n",
       " 5: 'Manipur',\n",
       " 6: 'Delhi',\n",
       " 7: 'Mizoram',\n",
       " 8: 'Gujarat',\n",
       " 9: 'Maharashtra',\n",
       " 10: 'Andaman and Nicobar Islands',\n",
       " 11: 'Jammu and Kashmir',\n",
       " 12: 'Kerala',\n",
       " 13: 'Meghalaya',\n",
       " 14: 'Goa',\n",
       " 15: 'West Bengal',\n",
       " 16: 'Ladakh',\n",
       " 17: 'Uttarakhand',\n",
       " 18: 'Haryana',\n",
       " 19: 'Karnataka',\n",
       " 20: 'Puducherry',\n",
       " 21: 'Assam',\n",
       " 22: 'Rajasthan',\n",
       " 23: 'Uttar Pradesh',\n",
       " 24: 'Jharkhand',\n",
       " 25: 'Arunachal Pradesh',\n",
       " 26: 'Chhattisgarh',\n",
       " 27: 'Tamil Nadu',\n",
       " 28: 'Tripura',\n",
       " 29: 'Dadar Nagar Haveli',\n",
       " 30: 'Daman & Diu',\n",
       " 31: 'Sikkim',\n",
       " 32: 'Bihar',\n",
       " 33: 'Telangana',\n",
       " 34: 'Chandigarh',\n",
       " 35: 'Punjab'}"
      ]
     },
     "execution_count": 46,
     "metadata": {
      "tags": []
     },
     "output_type": "execute_result"
    }
   ],
   "source": [
    "states_dict = dict(zip(list(x1),list(x3)))\n",
    "states_dict\n"
   ]
  },
  {
   "cell_type": "code",
   "execution_count": 47,
   "metadata": {
    "colab": {
     "base_uri": "https://localhost:8080/",
     "height": 281
    },
    "id": "QAjTwBF0WG-D",
    "outputId": "83e7f67b-a844-464c-df3a-ebb3b56c0b61"
   },
   "outputs": [
    {
     "data": {
      "image/png": "[encoded data removed]",
      "text/plain": [
       "<Figure size 432x288 with 1 Axes>"
      ]
     },
     "metadata": {
      "needs_background": "light",
      "tags": []
     },
     "output_type": "display_data"
    }
   ],
   "source": [
    "\n",
    "\n",
    "#Visualizing the data \n",
    "plt.plot() \n",
    "plt.xlim([0, 36]) \n",
    "plt.ylim([0, 180]) \n",
    "plt.title('Dataset') \n",
    "plt.scatter(x1, x2) \n",
    "plt.show() \n"
   ]
  },
  {
   "cell_type": "code",
   "execution_count": 48,
   "metadata": {
    "id": "HdjaRo24XCKV"
   },
   "outputs": [],
   "source": [
    "distortions = [] \n",
    "inertias = [] \n",
    "mapping1 = {} \n",
    "mapping2 = {} \n",
    "K = range(1,10) \n",
    "\n",
    "for k in K: \n",
    "\t#Building and fitting the model \n",
    "\tkmeanModel = KMeans(n_clusters=k).fit(X) \n",
    "\tkmeanModel.fit(X)\t \n",
    "\t\n",
    "\tdistortions.append(sum(np.min(cdist(X, kmeanModel.cluster_centers_, \n",
    "\t\t\t\t\t'euclidean'),axis=1)) / X.shape[0]) \n",
    "\tinertias.append(kmeanModel.inertia_) \n",
    "\n",
    "\tmapping1[k] = sum(np.min(cdist(X, kmeanModel.cluster_centers_, \n",
    "\t\t\t\t'euclidean'),axis=1)) / X.shape[0] \n",
    "\tmapping2[k] = kmeanModel.inertia_ \n"
   ]
  },
  {
   "cell_type": "code",
   "execution_count": 49,
   "metadata": {
    "colab": {
     "base_uri": "https://localhost:8080/",
     "height": 170
    },
    "id": "9drj5UsVYb-1",
    "outputId": "7b7aa6be-f149-4865-8585-e2300db7e982"
   },
   "outputs": [
    {
     "name": "stdout",
     "output_type": "stream",
     "text": [
      "1 : 20.184517740361528\n",
      "2 : 13.915187348405837\n",
      "3 : 9.942557067663435\n",
      "4 : 6.7064400391528425\n",
      "5 : 5.765637835553313\n",
      "6 : 4.730946307030777\n",
      "7 : 4.362715411994882\n",
      "8 : 3.6828162525428434\n",
      "9 : 3.3484193981716324\n"
     ]
    }
   ],
   "source": [
    "for key,val in mapping1.items(): \n",
    "\tprint(str(key)+' : '+str(val)) \n"
   ]
  },
  {
   "cell_type": "code",
   "execution_count": 50,
   "metadata": {
    "colab": {
     "base_uri": "https://localhost:8080/",
     "height": 295
    },
    "id": "hcEA0hudbNyA",
    "outputId": "60c486af-ae1b-427b-ff96-9fc5df7012cf"
   },
   "outputs": [
    {
     "data": {
      "image/png": "[encoded data removed]",
      "text/plain": [
       "<Figure size 432x288 with 1 Axes>"
      ]
     },
     "metadata": {
      "needs_background": "light",
      "tags": []
     },
     "output_type": "display_data"
    }
   ],
   "source": [
    "plt.plot(K, distortions, 'bx-') \n",
    "plt.xlabel('Values of K') \n",
    "plt.ylabel('Distortion') \n",
    "plt.title('The Elbow Method using Distortion') \n",
    "plt.show() \n"
   ]
  },
  {
   "cell_type": "code",
   "execution_count": 51,
   "metadata": {
    "colab": {
     "base_uri": "https://localhost:8080/",
     "height": 170
    },
    "id": "a53HcZntbTTZ",
    "outputId": "ebcc7b90-ed3b-46ee-e20c-927ac8479205"
   },
   "outputs": [
    {
     "name": "stdout",
     "output_type": "stream",
     "text": [
      "1 : 37900.81223923278\n",
      "2 : 9257.74309087326\n",
      "3 : 4613.521384981055\n",
      "4 : 2250.0690506325564\n",
      "5 : 1490.838312970575\n",
      "6 : 1063.8708646921164\n",
      "7 : 838.9786558612003\n",
      "8 : 629.8237540005346\n",
      "9 : 513.5136014393418\n"
     ]
    }
   ],
   "source": [
    "for key,val in mapping2.items(): \n",
    "\tprint(str(key)+' : '+str(val)) \n"
   ]
  },
  {
   "cell_type": "code",
   "execution_count": 52,
   "metadata": {
    "colab": {
     "base_uri": "https://localhost:8080/",
     "height": 295
    },
    "id": "Xl_uV1jUbXPT",
    "outputId": "08d6f5cb-1711-46ba-8f15-317914e0257d"
   },
   "outputs": [
    {
     "data": {
      "image/png": "[encoded data removed]",
      "text/plain": [
       "<Figure size 432x288 with 1 Axes>"
      ]
     },
     "metadata": {
      "needs_background": "light",
      "tags": []
     },
     "output_type": "display_data"
    }
   ],
   "source": [
    "plt.plot(K, inertias, 'bx-') \n",
    "plt.xlabel('Values of K') \n",
    "plt.ylabel('Inertia') \n",
    "plt.title('The Elbow Method using Inertia') \n",
    "plt.show() \n"
   ]
  },
  {
   "cell_type": "markdown",
   "metadata": {
    "id": "D-r-dYJ7bovv"
   },
   "source": [
    "k=4??"
   ]
  },
  {
   "cell_type": "code",
   "execution_count": 65,
   "metadata": {
    "colab": {
     "base_uri": "https://localhost:8080/",
     "height": 51
    },
    "id": "uMj2ZD8LbsMT",
    "outputId": "93853aa8-c5f0-42c2-de9a-1497d6fccd2c"
   },
   "outputs": [
    {
     "data": {
      "text/plain": [
       "(array([3, 2, 2, 2, 2, 2, 3, 2, 3, 1, 2, 2, 2, 2, 2, 3, 2, 2, 2, 3, 0, 0,\n",
       "        0, 3, 0, 0, 0, 3, 0, 0, 0, 0, 0, 0, 0, 0], dtype=int32), 36)"
      ]
     },
     "execution_count": 65,
     "metadata": {
      "tags": []
     },
     "output_type": "execute_result"
    }
   ],
   "source": [
    "#According to the Elbow graph we deterrmine the k as 4. Applying k-means algorithm to the X dataset.\n",
    "kmeans = KMeans(n_clusters=4, init ='k-means++', max_iter=300, n_init=10,random_state=0 )\n",
    "\n",
    "# We are going to use the fit predict method that returns for each \n",
    "#observation which cluster it belongs to. The cluster to which \n",
    "#client belongs and it will return this cluster numbers into a \n",
    "#single vector that is  called y K-means\n",
    "y_kmeans = kmeans.fit_predict(X)\n",
    "y_kmeans,len(y_kmeans)"
   ]
  },
  {
   "cell_type": "code",
   "execution_count": 66,
   "metadata": {
    "colab": {
     "base_uri": "https://localhost:8080/",
     "height": 629
    },
    "id": "sVKu2Wyij2_A",
    "outputId": "3d83c4c4-f2f5-4f19-f627-4d26ea72a3ee"
   },
   "outputs": [
    {
     "data": {
      "text/plain": [
       "{'Andaman and Nicobar Islands': 2,\n",
       " 'Andhra Pradesh': 3,\n",
       " 'Arunachal Pradesh': 0,\n",
       " 'Assam': 0,\n",
       " 'Bihar': 0,\n",
       " 'Chandigarh': 0,\n",
       " 'Chhattisgarh': 0,\n",
       " 'Dadar Nagar Haveli': 0,\n",
       " 'Daman & Diu': 0,\n",
       " 'Delhi': 3,\n",
       " 'Goa': 2,\n",
       " 'Gujarat': 3,\n",
       " 'Haryana': 2,\n",
       " 'Himachal Pradesh': 2,\n",
       " 'Jammu and Kashmir': 2,\n",
       " 'Jharkhand': 0,\n",
       " 'Karnataka': 3,\n",
       " 'Kerala': 2,\n",
       " 'Ladakh': 2,\n",
       " 'Madhya Pradesh': 2,\n",
       " 'Maharashtra': 1,\n",
       " 'Manipur': 2,\n",
       " 'Meghalaya': 2,\n",
       " 'Mizoram': 2,\n",
       " 'Nagaland': 2,\n",
       " 'Odisha': 2,\n",
       " 'Puducherry': 0,\n",
       " 'Punjab': 0,\n",
       " 'Rajasthan': 0,\n",
       " 'Sikkim': 0,\n",
       " 'Tamil Nadu': 3,\n",
       " 'Telangana': 0,\n",
       " 'Tripura': 0,\n",
       " 'Uttar Pradesh': 3,\n",
       " 'Uttarakhand': 2,\n",
       " 'West Bengal': 3}"
      ]
     },
     "execution_count": 66,
     "metadata": {
      "tags": []
     },
     "output_type": "execute_result"
    }
   ],
   "source": [
    "clusters = {}\n",
    "index = 0\n",
    "for cur_cluster in y_kmeans:\n",
    "  clusters[states_dict[index]] = cur_cluster\n",
    "  index += 1\n",
    "clusters"
   ]
  },
  {
   "cell_type": "code",
   "execution_count": 67,
   "metadata": {
    "colab": {
     "base_uri": "https://localhost:8080/",
     "height": 295
    },
    "id": "Hkq_68thkPry",
    "outputId": "7421dd34-a085-4f52-bdc3-e28e075d9e06"
   },
   "outputs": [
    {
     "data": {
      "image/png": "[encoded data removed]",
      "text/plain": [
       "<Figure size 432x288 with 1 Axes>"
      ]
     },
     "metadata": {
      "needs_background": "light",
      "tags": []
     },
     "output_type": "display_data"
    }
   ],
   "source": [
    "#Visualising the clusters\n",
    "plt.scatter(X[y_kmeans==0, 0], X[y_kmeans==0, 1], s=100, c='red', label ='Cluster 1')\n",
    "plt.scatter(X[y_kmeans==1, 0], X[y_kmeans==1, 1], s=100, c='blue', label ='Cluster 2')\n",
    "plt.scatter(X[y_kmeans==2, 0], X[y_kmeans==2, 1], s=100, c='green', label ='Cluster 3')\n",
    "plt.scatter(X[y_kmeans==3, 0], X[y_kmeans==3, 1], s=100, c='cyan', label ='Cluster 4')\n",
    "\n",
    "#Plot the centroid. This time we're going to use the cluster centres  #attribute that returns here the coordinates of the centroid.\n",
    "plt.scatter(kmeans.cluster_centers_[:, 0], kmeans.cluster_centers_[:, 1], s=300, c='yellow', label = 'Centroids')\n",
    "plt.title('Clusters of States')\n",
    "plt.xlabel('States')\n",
    "plt.ylabel('Trendline coeff.')\n",
    "plt.show()"
   ]
  },
  {
   "cell_type": "markdown",
   "metadata": {
    "id": "p_q22515m9dp"
   },
   "source": [
    "Yellow dots in above fig. are centroids of each clusters"
   ]
  },
  {
   "cell_type": "code",
   "execution_count": null,
   "metadata": {
    "id": "tQDsz87onBhJ"
   },
   "outputs": [],
   "source": []
  }
 ],
 "metadata": {
  "colab": {
   "collapsed_sections": [],
   "name": "deaths-elbow method.ipynb",
   "provenance": []
  },
  "kernelspec": {
   "display_name": "Python 3",
   "language": "python",
   "name": "python3"
  },
  "language_info": {
   "codemirror_mode": {
    "name": "ipython",
    "version": 3
   },
   "file_extension": ".py",
   "mimetype": "text/x-python",
   "name": "python",
   "nbconvert_exporter": "python",
   "pygments_lexer": "ipython3",
   "version": "3.8.5"
  }
 },
 "nbformat": 4,
 "nbformat_minor": 1
}
