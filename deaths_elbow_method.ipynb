{
  "nbformat": 4,
  "nbformat_minor": 0,
  "metadata": {
    "colab": {
      "name": "deaths-elbow method.ipynb",
      "provenance": []
    },
    "kernelspec": {
      "name": "python3",
      "display_name": "Python 3"
    }
  },
  "cells": [
    {
      "cell_type": "code",
      "metadata": {
        "id": "vJnYhfZ8UQBW",
        "outputId": "54cc8636-ee52-4f6d-e618-e3f166c49c86",
        "colab": {
          "base_uri": "https://localhost:8080/",
          "height": 34
        }
      },
      "source": [
        "from google.colab import drive\n",
        "\n",
        "drive.mount('/content/gdrive')"
      ],
      "execution_count": 1,
      "outputs": [
        {
          "output_type": "stream",
          "text": [
            "Mounted at /content/gdrive\n"
          ],
          "name": "stdout"
        }
      ]
    },
    {
      "cell_type": "code",
      "metadata": {
        "id": "3kbJRi7FWGBm"
      },
      "source": [
        "from sklearn.cluster import KMeans \n",
        "from sklearn import metrics \n",
        "from scipy.spatial.distance import cdist \n",
        "import numpy as np \n",
        "import matplotlib.pyplot as plt \n",
        "import pandas as pd"
      ],
      "execution_count": 2,
      "outputs": []
    },
    {
      "cell_type": "code",
      "metadata": {
        "id": "v-wycHO8Uc3p"
      },
      "source": [
        "data_path = '/content/gdrive/My Drive/DS Project/datasets/deaths_trendLineCoeff.csv'\n",
        "data = pd.read_csv(data_path)"
      ],
      "execution_count": 20,
      "outputs": []
    },
    {
      "cell_type": "code",
      "metadata": {
        "id": "Iqg4ou3CWmdE",
        "outputId": "f7cada78-6bb2-4fbd-f23c-b1a366ea61c1",
        "colab": {
          "base_uri": "https://localhost:8080/",
          "height": 204
        }
      },
      "source": [
        "data.columns = ['index','State/UnionTerrirory','TrendLineCoeff']\n",
        "data.head()\n"
      ],
      "execution_count": 22,
      "outputs": [
        {
          "output_type": "execute_result",
          "data": {
            "text/html": [
              "<div>\n",
              "<style scoped>\n",
              "    .dataframe tbody tr th:only-of-type {\n",
              "        vertical-align: middle;\n",
              "    }\n",
              "\n",
              "    .dataframe tbody tr th {\n",
              "        vertical-align: top;\n",
              "    }\n",
              "\n",
              "    .dataframe thead th {\n",
              "        text-align: right;\n",
              "    }\n",
              "</style>\n",
              "<table border=\"1\" class=\"dataframe\">\n",
              "  <thead>\n",
              "    <tr style=\"text-align: right;\">\n",
              "      <th></th>\n",
              "      <th>index</th>\n",
              "      <th>State/UnionTerrirory</th>\n",
              "      <th>TrendLineCoeff</th>\n",
              "    </tr>\n",
              "  </thead>\n",
              "  <tbody>\n",
              "    <tr>\n",
              "      <th>0</th>\n",
              "      <td>0</td>\n",
              "      <td>Andhra Pradesh</td>\n",
              "      <td>27.855346</td>\n",
              "    </tr>\n",
              "    <tr>\n",
              "      <th>1</th>\n",
              "      <td>1</td>\n",
              "      <td>Himachal Pradesh</td>\n",
              "      <td>0.610519</td>\n",
              "    </tr>\n",
              "    <tr>\n",
              "      <th>2</th>\n",
              "      <td>2</td>\n",
              "      <td>Odisha</td>\n",
              "      <td>3.857515</td>\n",
              "    </tr>\n",
              "    <tr>\n",
              "      <th>3</th>\n",
              "      <td>3</td>\n",
              "      <td>Madhya Pradesh</td>\n",
              "      <td>11.014560</td>\n",
              "    </tr>\n",
              "    <tr>\n",
              "      <th>4</th>\n",
              "      <td>4</td>\n",
              "      <td>Nagaland</td>\n",
              "      <td>0.132035</td>\n",
              "    </tr>\n",
              "  </tbody>\n",
              "</table>\n",
              "</div>"
            ],
            "text/plain": [
              "   index State/UnionTerrirory  TrendLineCoeff\n",
              "0      0       Andhra Pradesh       27.855346\n",
              "1      1     Himachal Pradesh        0.610519\n",
              "2      2               Odisha        3.857515\n",
              "3      3       Madhya Pradesh       11.014560\n",
              "4      4             Nagaland        0.132035"
            ]
          },
          "metadata": {
            "tags": []
          },
          "execution_count": 22
        }
      ]
    },
    {
      "cell_type": "code",
      "metadata": {
        "id": "nlT-1IdrWxvU"
      },
      "source": [
        "#Creating the data \n",
        "x1 = np.array(data['index']) \n",
        "x2 = np.array(data['TrendLineCoeff']) \n",
        "x3 = np.array(data['State/UnionTerrirory'])\n",
        "X = np.array(list(zip(x1, x2))).reshape(len(x1), 2) "
      ],
      "execution_count": 24,
      "outputs": []
    },
    {
      "cell_type": "code",
      "metadata": {
        "id": "A5XL9EZ1W2wk",
        "outputId": "a2914577-fabc-4779-a02a-b780e893e546",
        "colab": {
          "base_uri": "https://localhost:8080/",
          "height": 34
        }
      },
      "source": [
        "max(x2),len(x1)"
      ],
      "execution_count": 25,
      "outputs": [
        {
          "output_type": "execute_result",
          "data": {
            "text/plain": [
              "(179.94506644877194, 36)"
            ]
          },
          "metadata": {
            "tags": []
          },
          "execution_count": 25
        }
      ]
    },
    {
      "cell_type": "code",
      "metadata": {
        "id": "stsrjugxaM-6",
        "outputId": "d7776d79-195b-4098-ef34-2440217133ae",
        "colab": {
          "base_uri": "https://localhost:8080/",
          "height": 629
        }
      },
      "source": [
        "states_dict = dict(zip(list(x1),list(x3)))\n",
        "states_dict\n"
      ],
      "execution_count": 31,
      "outputs": [
        {
          "output_type": "execute_result",
          "data": {
            "text/plain": [
              "{0: 'Andhra Pradesh',\n",
              " 1: 'Himachal Pradesh',\n",
              " 2: 'Odisha',\n",
              " 3: 'Madhya Pradesh',\n",
              " 4: 'Nagaland',\n",
              " 5: 'Manipur',\n",
              " 6: 'Delhi',\n",
              " 7: 'Mizoram',\n",
              " 8: 'Gujarat',\n",
              " 9: 'Maharashtra',\n",
              " 10: 'Andaman and Nicobar Islands',\n",
              " 11: 'Jammu and Kashmir',\n",
              " 12: 'Kerala',\n",
              " 13: 'Meghalaya',\n",
              " 14: 'Goa',\n",
              " 15: 'West Bengal',\n",
              " 16: 'Ladakh',\n",
              " 17: 'Uttarakhand',\n",
              " 18: 'Haryana',\n",
              " 19: 'Karnataka',\n",
              " 20: 'Puducherry',\n",
              " 21: 'Assam',\n",
              " 22: 'Rajasthan',\n",
              " 23: 'Uttar Pradesh',\n",
              " 24: 'Jharkhand',\n",
              " 25: 'Arunachal Pradesh',\n",
              " 26: 'Chhattisgarh',\n",
              " 27: 'Tamil Nadu',\n",
              " 28: 'Tripura',\n",
              " 29: 'Dadar Nagar Haveli',\n",
              " 30: 'Daman & Diu',\n",
              " 31: 'Sikkim',\n",
              " 32: 'Bihar',\n",
              " 33: 'Telangana',\n",
              " 34: 'Chandigarh',\n",
              " 35: 'Punjab'}"
            ]
          },
          "metadata": {
            "tags": []
          },
          "execution_count": 31
        }
      ]
    },
    {
      "cell_type": "code",
      "metadata": {
        "id": "QAjTwBF0WG-D",
        "outputId": "cbead30f-835a-4abb-a179-0dcf8237a0ad",
        "colab": {
          "base_uri": "https://localhost:8080/",
          "height": 281
        }
      },
      "source": [
        "\n",
        "\n",
        "#Visualizing the data \n",
        "plt.plot() \n",
        "plt.xlim([0, 36]) \n",
        "plt.ylim([0, 180]) \n",
        "plt.title('Dataset') \n",
        "plt.scatter(x1, x2) \n",
        "plt.show() \n"
      ],
      "execution_count": 34,
      "outputs": [
        {
          "output_type": "display_data",
          "data": {
            "image/png": "[encoded data removed]",
            "text/plain": [
              "<Figure size 432x288 with 1 Axes>"
            ]
          },
          "metadata": {
            "tags": [],
            "needs_background": "light"
          }
        }
      ]
    },
    {
      "cell_type": "code",
      "metadata": {
        "id": "HdjaRo24XCKV"
      },
      "source": [
        "distortions = [] \n",
        "inertias = [] \n",
        "mapping1 = {} \n",
        "mapping2 = {} \n",
        "K = range(1,10) \n",
        "\n",
        "for k in K: \n",
        "\t#Building and fitting the model \n",
        "\tkmeanModel = KMeans(n_clusters=k).fit(X) \n",
        "\tkmeanModel.fit(X)\t \n",
        "\t\n",
        "\tdistortions.append(sum(np.min(cdist(X, kmeanModel.cluster_centers_, \n",
        "\t\t\t\t\t'euclidean'),axis=1)) / X.shape[0]) \n",
        "\tinertias.append(kmeanModel.inertia_) \n",
        "\n",
        "\tmapping1[k] = sum(np.min(cdist(X, kmeanModel.cluster_centers_, \n",
        "\t\t\t\t'euclidean'),axis=1)) / X.shape[0] \n",
        "\tmapping2[k] = kmeanModel.inertia_ \n"
      ],
      "execution_count": 35,
      "outputs": []
    },
    {
      "cell_type": "code",
      "metadata": {
        "id": "9drj5UsVYb-1",
        "outputId": "88063c79-3de2-4274-af4d-fbc036898d1a",
        "colab": {
          "base_uri": "https://localhost:8080/",
          "height": 170
        }
      },
      "source": [
        "for key,val in mapping1.items(): \n",
        "\tprint(str(key)+' : '+str(val)) \n"
      ],
      "execution_count": 36,
      "outputs": [
        {
          "output_type": "stream",
          "text": [
            "1 : 20.184517740361528\n",
            "2 : 13.915187348405837\n",
            "3 : 9.942557067663435\n",
            "4 : 6.7064400391528425\n",
            "5 : 5.765637835553313\n",
            "6 : 4.730946307030777\n",
            "7 : 4.309515543292627\n",
            "8 : 3.6828162525428434\n",
            "9 : 3.3484193981716324\n"
          ],
          "name": "stdout"
        }
      ]
    },
    {
      "cell_type": "code",
      "metadata": {
        "id": "hcEA0hudbNyA",
        "outputId": "190aef1f-0d91-4877-b85d-0e34165f3e88",
        "colab": {
          "base_uri": "https://localhost:8080/",
          "height": 295
        }
      },
      "source": [
        "plt.plot(K, distortions, 'bx-') \n",
        "plt.xlabel('Values of K') \n",
        "plt.ylabel('Distortion') \n",
        "plt.title('The Elbow Method using Distortion') \n",
        "plt.show() \n"
      ],
      "execution_count": 37,
      "outputs": [
        {
          "output_type": "display_data",
          "data": {
            "image/png": "[encoded data removed]",
            "text/plain": [
              "<Figure size 432x288 with 1 Axes>"
            ]
          },
          "metadata": {
            "tags": [],
            "needs_background": "light"
          }
        }
      ]
    },
    {
      "cell_type": "code",
      "metadata": {
        "id": "a53HcZntbTTZ",
        "outputId": "12959a9f-447a-4b60-b2da-3e337c3fbd7a",
        "colab": {
          "base_uri": "https://localhost:8080/",
          "height": 170
        }
      },
      "source": [
        "for key,val in mapping2.items(): \n",
        "\tprint(str(key)+' : '+str(val)) \n"
      ],
      "execution_count": 38,
      "outputs": [
        {
          "output_type": "stream",
          "text": [
            "1 : 37900.81223923278\n",
            "2 : 9257.74309087326\n",
            "3 : 4613.521384981055\n",
            "4 : 2250.0690506325564\n",
            "5 : 1490.838312970575\n",
            "6 : 1063.8708646921164\n",
            "7 : 827.8209776727999\n",
            "8 : 629.8237540005346\n",
            "9 : 513.5136014393418\n"
          ],
          "name": "stdout"
        }
      ]
    },
    {
      "cell_type": "code",
      "metadata": {
        "id": "Xl_uV1jUbXPT",
        "outputId": "7b967738-3da5-422a-a3d7-1ed27173098f",
        "colab": {
          "base_uri": "https://localhost:8080/",
          "height": 295
        }
      },
      "source": [
        "plt.plot(K, inertias, 'bx-') \n",
        "plt.xlabel('Values of K') \n",
        "plt.ylabel('Inertia') \n",
        "plt.title('The Elbow Method using Inertia') \n",
        "plt.show() \n"
      ],
      "execution_count": 39,
      "outputs": [
        {
          "output_type": "display_data",
          "data": {
            "image/png": "[encoded data removed]",
            "text/plain": [
              "<Figure size 432x288 with 1 Axes>"
            ]
          },
          "metadata": {
            "tags": [],
            "needs_background": "light"
          }
        }
      ]
    },
    {
      "cell_type": "markdown",
      "metadata": {
        "id": "D-r-dYJ7bovv"
      },
      "source": [
        "k=3??"
      ]
    },
    {
      "cell_type": "code",
      "metadata": {
        "id": "uMj2ZD8LbsMT"
      },
      "source": [
        ""
      ],
      "execution_count": null,
      "outputs": []
    }
  ]
}