{
  "nbformat": 4,
  "nbformat_minor": 0,
  "metadata": {
    "colab": {
      "name": "confirmed-elbow method.ipynb",
      "provenance": [],
      "collapsed_sections": []
    },
    "kernelspec": {
      "name": "python3",
      "display_name": "Python 3"
    }
  },
  "cells": [
    {
      "cell_type": "code",
      "metadata": {
        "id": "e8E_VvkpTymP",
        "outputId": "e3a64bf3-3fe1-4ce3-fe99-fb3f67fa27f7",
        "colab": {
          "base_uri": "https://localhost:8080/",
          "height": 34
        }
      },
      "source": [
        "from google.colab import drive\n",
        "\n",
        "drive.mount('/content/gdrive')"
      ],
      "execution_count": 14,
      "outputs": [
        {
          "output_type": "stream",
          "text": [
            "Drive already mounted at /content/gdrive; to attempt to forcibly remount, call drive.mount(\"/content/gdrive\", force_remount=True).\n"
          ],
          "name": "stdout"
        }
      ]
    },
    {
      "cell_type": "code",
      "metadata": {
        "id": "lzBd7sk6WKNl"
      },
      "source": [
        "from sklearn.cluster import KMeans \n",
        "from sklearn import metrics \n",
        "from scipy.spatial.distance import cdist \n",
        "import numpy as np \n",
        "import matplotlib.pyplot as plt \n",
        "import pandas as pd"
      ],
      "execution_count": 15,
      "outputs": []
    },
    {
      "cell_type": "code",
      "metadata": {
        "id": "NpazEB9pUJoA"
      },
      "source": [
        "data_path = '/content/gdrive/My Drive/DS Project/datasets/confirmed_trendLineCoeff.csv'\n",
        "data = pd.read_csv(data_path)"
      ],
      "execution_count": 16,
      "outputs": []
    },
    {
      "cell_type": "code",
      "metadata": {
        "id": "kZtbacwGV3tF",
        "outputId": "5cd717d8-e332-49b6-cc5f-d48db6a6588a",
        "colab": {
          "base_uri": "https://localhost:8080/",
          "height": 204
        }
      },
      "source": [
        "data.columns = ['index','State/UnionTerrirory','TrendLineCoeff']\n",
        "data.head()\n"
      ],
      "execution_count": 17,
      "outputs": [
        {
          "output_type": "execute_result",
          "data": {
            "text/html": [
              "<div>\n",
              "<style scoped>\n",
              "    .dataframe tbody tr th:only-of-type {\n",
              "        vertical-align: middle;\n",
              "    }\n",
              "\n",
              "    .dataframe tbody tr th {\n",
              "        vertical-align: top;\n",
              "    }\n",
              "\n",
              "    .dataframe thead th {\n",
              "        text-align: right;\n",
              "    }\n",
              "</style>\n",
              "<table border=\"1\" class=\"dataframe\">\n",
              "  <thead>\n",
              "    <tr style=\"text-align: right;\">\n",
              "      <th></th>\n",
              "      <th>index</th>\n",
              "      <th>State/UnionTerrirory</th>\n",
              "      <th>TrendLineCoeff</th>\n",
              "    </tr>\n",
              "  </thead>\n",
              "  <tbody>\n",
              "    <tr>\n",
              "      <th>0</th>\n",
              "      <td>0</td>\n",
              "      <td>Andhra Pradesh</td>\n",
              "      <td>3197.840107</td>\n",
              "    </tr>\n",
              "    <tr>\n",
              "      <th>1</th>\n",
              "      <td>1</td>\n",
              "      <td>Himachal Pradesh</td>\n",
              "      <td>62.517801</td>\n",
              "    </tr>\n",
              "    <tr>\n",
              "      <th>2</th>\n",
              "      <td>2</td>\n",
              "      <td>Odisha</td>\n",
              "      <td>910.843764</td>\n",
              "    </tr>\n",
              "    <tr>\n",
              "      <th>3</th>\n",
              "      <td>3</td>\n",
              "      <td>Madhya Pradesh</td>\n",
              "      <td>569.425487</td>\n",
              "    </tr>\n",
              "    <tr>\n",
              "      <th>4</th>\n",
              "      <td>4</td>\n",
              "      <td>Nagaland</td>\n",
              "      <td>49.758165</td>\n",
              "    </tr>\n",
              "  </tbody>\n",
              "</table>\n",
              "</div>"
            ],
            "text/plain": [
              "   index State/UnionTerrirory  TrendLineCoeff\n",
              "0      0       Andhra Pradesh     3197.840107\n",
              "1      1     Himachal Pradesh       62.517801\n",
              "2      2               Odisha      910.843764\n",
              "3      3       Madhya Pradesh      569.425487\n",
              "4      4             Nagaland       49.758165"
            ]
          },
          "metadata": {
            "tags": []
          },
          "execution_count": 17
        }
      ]
    },
    {
      "cell_type": "code",
      "metadata": {
        "id": "EUwSVzfAdytA"
      },
      "source": [
        "#Creating the data \n",
        "x1 = np.array(data['index']) \n",
        "x2 = np.array(data['TrendLineCoeff']) \n",
        "x3 = np.array(data['State/UnionTerrirory'])\n",
        "X = np.array(list(zip(x1, x2))).reshape(len(x1), 2) "
      ],
      "execution_count": 18,
      "outputs": []
    },
    {
      "cell_type": "code",
      "metadata": {
        "id": "P2NE6oqgd04k",
        "outputId": "9ec91dba-8145-42e8-bbf4-215c5ba04e83",
        "colab": {
          "base_uri": "https://localhost:8080/",
          "height": 34
        }
      },
      "source": [
        "max(x2),len(x1)"
      ],
      "execution_count": 19,
      "outputs": [
        {
          "output_type": "execute_result",
          "data": {
            "text/plain": [
              "(6214.9634550381115, 36)"
            ]
          },
          "metadata": {
            "tags": []
          },
          "execution_count": 19
        }
      ]
    },
    {
      "cell_type": "code",
      "metadata": {
        "id": "JW-oJVnqd3V4",
        "outputId": "f300a006-5138-4145-ed46-8f106f7494ca",
        "colab": {
          "base_uri": "https://localhost:8080/",
          "height": 629
        }
      },
      "source": [
        "states_dict = dict(zip(list(x1),list(x3)))\n",
        "states_dict\n"
      ],
      "execution_count": 20,
      "outputs": [
        {
          "output_type": "execute_result",
          "data": {
            "text/plain": [
              "{0: 'Andhra Pradesh',\n",
              " 1: 'Himachal Pradesh',\n",
              " 2: 'Odisha',\n",
              " 3: 'Madhya Pradesh',\n",
              " 4: 'Nagaland',\n",
              " 5: 'Manipur',\n",
              " 6: 'Delhi',\n",
              " 7: 'Mizoram',\n",
              " 8: 'Gujarat',\n",
              " 9: 'Maharashtra',\n",
              " 10: 'Andaman and Nicobar Islands',\n",
              " 11: 'Jammu and Kashmir',\n",
              " 12: 'Kerala',\n",
              " 13: 'Meghalaya',\n",
              " 14: 'Goa',\n",
              " 15: 'West Bengal',\n",
              " 16: 'Ladakh',\n",
              " 17: 'Uttarakhand',\n",
              " 18: 'Haryana',\n",
              " 19: 'Karnataka',\n",
              " 20: 'Puducherry',\n",
              " 21: 'Assam',\n",
              " 22: 'Rajasthan',\n",
              " 23: 'Uttar Pradesh',\n",
              " 24: 'Jharkhand',\n",
              " 25: 'Arunachal Pradesh',\n",
              " 26: 'Chhattisgarh',\n",
              " 27: 'Tamil Nadu',\n",
              " 28: 'Tripura',\n",
              " 29: 'Dadar Nagar Haveli',\n",
              " 30: 'Daman & Diu',\n",
              " 31: 'Sikkim',\n",
              " 32: 'Bihar',\n",
              " 33: 'Telangana',\n",
              " 34: 'Chandigarh',\n",
              " 35: 'Punjab'}"
            ]
          },
          "metadata": {
            "tags": []
          },
          "execution_count": 20
        }
      ]
    },
    {
      "cell_type": "code",
      "metadata": {
        "id": "oGSL_UhQd5Sy",
        "outputId": "e3ccdef0-b3eb-46d2-af0c-a1eb8d3f8d62",
        "colab": {
          "base_uri": "https://localhost:8080/",
          "height": 281
        }
      },
      "source": [
        "\n",
        "\n",
        "#Visualizing the data \n",
        "plt.plot() \n",
        "plt.xlim([0, 36]) \n",
        "plt.ylim([0, max(x2)]) \n",
        "plt.title('Dataset') \n",
        "plt.scatter(x1, x2) \n",
        "plt.show() \n"
      ],
      "execution_count": 21,
      "outputs": [
        {
          "output_type": "display_data",
          "data": {
            "image/png": "[encoded data removed]",
            "text/plain": [
              "<Figure size 432x288 with 1 Axes>"
            ]
          },
          "metadata": {
            "tags": [],
            "needs_background": "light"
          }
        }
      ]
    },
    {
      "cell_type": "code",
      "metadata": {
        "id": "KXWWM4Bjd7jC",
        "outputId": "949942ef-b431-497a-a46e-ed747fe578bc",
        "colab": {
          "base_uri": "https://localhost:8080/",
          "height": 170
        }
      },
      "source": [
        "distortions = [] \n",
        "inertias = [] \n",
        "mapping1 = {} \n",
        "mapping2 = {} \n",
        "K = range(1,10) \n",
        "\n",
        "for k in K: \n",
        "\t#Building and fitting the model \n",
        "\tkmeanModel = KMeans(n_clusters=k).fit(X) \n",
        "\tkmeanModel.fit(X)\t \n",
        "\t\n",
        "\tdistortions.append(sum(np.min(cdist(X, kmeanModel.cluster_centers_, \n",
        "\t\t\t\t\t'euclidean'),axis=1)) / X.shape[0]) \n",
        "\tinertias.append(kmeanModel.inertia_) \n",
        "\n",
        "\tmapping1[k] = sum(np.min(cdist(X, kmeanModel.cluster_centers_, \n",
        "\t\t\t\t'euclidean'),axis=1)) / X.shape[0] \n",
        "\tmapping2[k] = kmeanModel.inertia_ \n",
        "\n",
        "for key,val in mapping1.items(): \n",
        "\tprint(str(key)+' : '+str(val)) \n"
      ],
      "execution_count": 22,
      "outputs": [
        {
          "output_type": "stream",
          "text": [
            "1 : 794.538015095212\n",
            "2 : 465.3652503029494\n",
            "3 : 340.20759406234646\n",
            "4 : 195.03138365824404\n",
            "5 : 108.88130591425686\n",
            "6 : 81.72709744937544\n",
            "7 : 70.16356024226832\n",
            "8 : 57.42532836543248\n",
            "9 : 46.30900659354771\n"
          ],
          "name": "stdout"
        }
      ]
    },
    {
      "cell_type": "code",
      "metadata": {
        "id": "ncXLVLHSd9l5",
        "outputId": "98ed27ff-d46e-4e90-fdaf-91aac4cace02",
        "colab": {
          "base_uri": "https://localhost:8080/",
          "height": 295
        }
      },
      "source": [
        "plt.plot(K, distortions, 'bx-') \n",
        "plt.xlabel('Values of K') \n",
        "plt.ylabel('Distortion') \n",
        "plt.title('The Elbow Method using Distortion') \n",
        "plt.show() \n"
      ],
      "execution_count": 23,
      "outputs": [
        {
          "output_type": "display_data",
          "data": {
            "image/png": "[encoded data removed]",
            "text/plain": [
              "<Figure size 432x288 with 1 Axes>"
            ]
          },
          "metadata": {
            "tags": [],
            "needs_background": "light"
          }
        }
      ]
    },
    {
      "cell_type": "code",
      "metadata": {
        "id": "5jxrZxC9d_i7",
        "outputId": "1d88cd72-e738-472d-afbb-6906e17d73ea",
        "colab": {
          "base_uri": "https://localhost:8080/",
          "height": 170
        }
      },
      "source": [
        "for key,val in mapping2.items(): \n",
        "\tprint(str(key)+' : '+str(val)) \n"
      ],
      "execution_count": 24,
      "outputs": [
        {
          "output_type": "stream",
          "text": [
            "1 : 54090826.04797382\n",
            "2 : 14771077.812552135\n",
            "3 : 6168362.1708548805\n",
            "4 : 1868541.3887084287\n",
            "5 : 865529.0318779777\n",
            "6 : 442256.1052286014\n",
            "7 : 288821.52654494357\n",
            "8 : 185979.40120473897\n",
            "9 : 123345.25784287867\n"
          ],
          "name": "stdout"
        }
      ]
    },
    {
      "cell_type": "code",
      "metadata": {
        "id": "WbQ6j3g8eB9V",
        "outputId": "6b1ff644-d4ce-4e6c-a230-94d6825099df",
        "colab": {
          "base_uri": "https://localhost:8080/",
          "height": 295
        }
      },
      "source": [
        "plt.plot(K, inertias, 'bx-') \n",
        "plt.xlabel('Values of K') \n",
        "plt.ylabel('Inertia') \n",
        "plt.title('The Elbow Method using Inertia') \n",
        "plt.show() \n"
      ],
      "execution_count": 25,
      "outputs": [
        {
          "output_type": "display_data",
          "data": {
            "image/png": "[encoded data removed]",
            "text/plain": [
              "<Figure size 432x288 with 1 Axes>"
            ]
          },
          "metadata": {
            "tags": [],
            "needs_background": "light"
          }
        }
      ]
    },
    {
      "cell_type": "markdown",
      "metadata": {
        "id": "NhX6fI36eJLN"
      },
      "source": [
        "k=4 ??"
      ]
    },
    {
      "cell_type": "code",
      "metadata": {
        "id": "JObGk5XLnNjp",
        "outputId": "b8718696-bdb5-490b-ef23-3047f1b56673",
        "colab": {
          "base_uri": "https://localhost:8080/",
          "height": 51
        }
      },
      "source": [
        "#According to the Elbow graph we deterrmine the k as 4. Applying k-means algorithm to the X dataset.\n",
        "kmeans = KMeans(n_clusters=4, init ='k-means++', max_iter=300, n_init=10,random_state=0 )\n",
        "\n",
        "# We are going to use the fit predict method that returns for each \n",
        "#observation which cluster it belongs to. The cluster to which \n",
        "#client belongs and it will return this cluster numbers into a \n",
        "#single vector that is  called y K-means\n",
        "y_kmeans = kmeans.fit_predict(X)\n",
        "y_kmeans,len(y_kmeans)"
      ],
      "execution_count": 26,
      "outputs": [
        {
          "output_type": "execute_result",
          "data": {
            "text/plain": [
              "(array([2, 3, 0, 3, 3, 3, 0, 3, 0, 1, 3, 3, 3, 3, 3, 0, 3, 3, 3, 2, 3, 0,\n",
              "        3, 0, 3, 3, 3, 2, 3, 3, 3, 3, 0, 0, 3, 3], dtype=int32), 36)"
            ]
          },
          "metadata": {
            "tags": []
          },
          "execution_count": 26
        }
      ]
    },
    {
      "cell_type": "code",
      "metadata": {
        "id": "cflZXXNyeKPv",
        "outputId": "d5cb666c-bd35-49c6-af7d-d4d2789f3766",
        "colab": {
          "base_uri": "https://localhost:8080/",
          "height": 629
        }
      },
      "source": [
        "clusters = {}\n",
        "index = 0\n",
        "for cur_cluster in y_kmeans:\n",
        "  clusters[states_dict[index]] = cur_cluster\n",
        "  index += 1\n",
        "clusters"
      ],
      "execution_count": 27,
      "outputs": [
        {
          "output_type": "execute_result",
          "data": {
            "text/plain": [
              "{'Andaman and Nicobar Islands': 3,\n",
              " 'Andhra Pradesh': 2,\n",
              " 'Arunachal Pradesh': 3,\n",
              " 'Assam': 0,\n",
              " 'Bihar': 0,\n",
              " 'Chandigarh': 3,\n",
              " 'Chhattisgarh': 3,\n",
              " 'Dadar Nagar Haveli': 3,\n",
              " 'Daman & Diu': 3,\n",
              " 'Delhi': 0,\n",
              " 'Goa': 3,\n",
              " 'Gujarat': 0,\n",
              " 'Haryana': 3,\n",
              " 'Himachal Pradesh': 3,\n",
              " 'Jammu and Kashmir': 3,\n",
              " 'Jharkhand': 3,\n",
              " 'Karnataka': 2,\n",
              " 'Kerala': 3,\n",
              " 'Ladakh': 3,\n",
              " 'Madhya Pradesh': 3,\n",
              " 'Maharashtra': 1,\n",
              " 'Manipur': 3,\n",
              " 'Meghalaya': 3,\n",
              " 'Mizoram': 3,\n",
              " 'Nagaland': 3,\n",
              " 'Odisha': 0,\n",
              " 'Puducherry': 3,\n",
              " 'Punjab': 3,\n",
              " 'Rajasthan': 3,\n",
              " 'Sikkim': 3,\n",
              " 'Tamil Nadu': 2,\n",
              " 'Telangana': 0,\n",
              " 'Tripura': 3,\n",
              " 'Uttar Pradesh': 0,\n",
              " 'Uttarakhand': 3,\n",
              " 'West Bengal': 0}"
            ]
          },
          "metadata": {
            "tags": []
          },
          "execution_count": 27
        }
      ]
    },
    {
      "cell_type": "code",
      "metadata": {
        "id": "AfNEnALxnS_O",
        "outputId": "d52d3188-1843-429d-a90f-a88b1f706860",
        "colab": {
          "base_uri": "https://localhost:8080/",
          "height": 295
        }
      },
      "source": [
        "#Visualising the clusters\n",
        "plt.scatter(X[y_kmeans==0, 0], X[y_kmeans==0, 1], s=100, c='red', label ='Cluster 1')\n",
        "plt.scatter(X[y_kmeans==1, 0], X[y_kmeans==1, 1], s=100, c='blue', label ='Cluster 2')\n",
        "plt.scatter(X[y_kmeans==2, 0], X[y_kmeans==2, 1], s=100, c='green', label ='Cluster 3')\n",
        "plt.scatter(X[y_kmeans==3, 0], X[y_kmeans==3, 1], s=100, c='cyan', label ='Cluster 4')\n",
        "\n",
        "#Plot the centroid. This time we're going to use the cluster centres  #attribute that returns here the coordinates of the centroid.\n",
        "plt.scatter(kmeans.cluster_centers_[:, 0], kmeans.cluster_centers_[:, 1], s=300, c='yellow', label = 'Centroids')\n",
        "plt.title('Clusters of States')\n",
        "plt.xlabel('States')\n",
        "plt.ylabel('Trendline coeff.')\n",
        "plt.show()"
      ],
      "execution_count": 28,
      "outputs": [
        {
          "output_type": "display_data",
          "data": {
            "image/png": "[encoded data removed]",
            "text/plain": [
              "<Figure size 432x288 with 1 Axes>"
            ]
          },
          "metadata": {
            "tags": [],
            "needs_background": "light"
          }
        }
      ]
    },
    {
      "cell_type": "markdown",
      "metadata": {
        "id": "AJWM9p4DnhOw"
      },
      "source": [
        "Yellow dots in above fig. are centroids of each clusters"
      ]
    },
    {
      "cell_type": "code",
      "metadata": {
        "id": "FieYm5oPnhmo"
      },
      "source": [
        ""
      ],
      "execution_count": null,
      "outputs": []
    }
  ]
}