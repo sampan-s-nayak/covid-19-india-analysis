{
  "nbformat": 4,
  "nbformat_minor": 0,
  "metadata": {
    "colab": {
      "name": "confirmed-elbow method.ipynb",
      "provenance": []
    },
    "kernelspec": {
      "name": "python3",
      "display_name": "Python 3"
    }
  },
  "cells": [
    {
      "cell_type": "code",
      "metadata": {
        "id": "e8E_VvkpTymP",
        "outputId": "ff5b0b8a-276f-49c9-96dc-37f90812c181",
        "colab": {
          "base_uri": "https://localhost:8080/",
          "height": 34
        }
      },
      "source": [
        "from google.colab import drive\n",
        "\n",
        "drive.mount('/content/gdrive')"
      ],
      "execution_count": 1,
      "outputs": [
        {
          "output_type": "stream",
          "text": [
            "Mounted at /content/gdrive\n"
          ],
          "name": "stdout"
        }
      ]
    },
    {
      "cell_type": "code",
      "metadata": {
        "id": "lzBd7sk6WKNl"
      },
      "source": [
        "from sklearn.cluster import KMeans \n",
        "from sklearn import metrics \n",
        "from scipy.spatial.distance import cdist \n",
        "import numpy as np \n",
        "import matplotlib.pyplot as plt \n",
        "import pandas as pd"
      ],
      "execution_count": 3,
      "outputs": []
    },
    {
      "cell_type": "code",
      "metadata": {
        "id": "NpazEB9pUJoA"
      },
      "source": [
        "data_path = '/content/gdrive/My Drive/DS Project/datasets/confirmed_trendLineCoeff.csv'\n",
        "data = pd.read_csv(data_path)"
      ],
      "execution_count": 4,
      "outputs": []
    },
    {
      "cell_type": "code",
      "metadata": {
        "id": "kZtbacwGV3tF",
        "outputId": "64d8ce07-77a1-439e-89a7-45472ad32b34",
        "colab": {
          "base_uri": "https://localhost:8080/",
          "height": 204
        }
      },
      "source": [
        "data.columns = ['index','State/UnionTerrirory','TrendLineCoeff']\n",
        "data.head()\n"
      ],
      "execution_count": 5,
      "outputs": [
        {
          "output_type": "execute_result",
          "data": {
            "text/html": [
              "<div>\n",
              "<style scoped>\n",
              "    .dataframe tbody tr th:only-of-type {\n",
              "        vertical-align: middle;\n",
              "    }\n",
              "\n",
              "    .dataframe tbody tr th {\n",
              "        vertical-align: top;\n",
              "    }\n",
              "\n",
              "    .dataframe thead th {\n",
              "        text-align: right;\n",
              "    }\n",
              "</style>\n",
              "<table border=\"1\" class=\"dataframe\">\n",
              "  <thead>\n",
              "    <tr style=\"text-align: right;\">\n",
              "      <th></th>\n",
              "      <th>index</th>\n",
              "      <th>State/UnionTerrirory</th>\n",
              "      <th>TrendLineCoeff</th>\n",
              "    </tr>\n",
              "  </thead>\n",
              "  <tbody>\n",
              "    <tr>\n",
              "      <th>0</th>\n",
              "      <td>0</td>\n",
              "      <td>Andhra Pradesh</td>\n",
              "      <td>3197.840107</td>\n",
              "    </tr>\n",
              "    <tr>\n",
              "      <th>1</th>\n",
              "      <td>1</td>\n",
              "      <td>Himachal Pradesh</td>\n",
              "      <td>62.517801</td>\n",
              "    </tr>\n",
              "    <tr>\n",
              "      <th>2</th>\n",
              "      <td>2</td>\n",
              "      <td>Odisha</td>\n",
              "      <td>910.843764</td>\n",
              "    </tr>\n",
              "    <tr>\n",
              "      <th>3</th>\n",
              "      <td>3</td>\n",
              "      <td>Madhya Pradesh</td>\n",
              "      <td>569.425487</td>\n",
              "    </tr>\n",
              "    <tr>\n",
              "      <th>4</th>\n",
              "      <td>4</td>\n",
              "      <td>Nagaland</td>\n",
              "      <td>49.758165</td>\n",
              "    </tr>\n",
              "  </tbody>\n",
              "</table>\n",
              "</div>"
            ],
            "text/plain": [
              "   index State/UnionTerrirory  TrendLineCoeff\n",
              "0      0       Andhra Pradesh     3197.840107\n",
              "1      1     Himachal Pradesh       62.517801\n",
              "2      2               Odisha      910.843764\n",
              "3      3       Madhya Pradesh      569.425487\n",
              "4      4             Nagaland       49.758165"
            ]
          },
          "metadata": {
            "tags": []
          },
          "execution_count": 5
        }
      ]
    },
    {
      "cell_type": "code",
      "metadata": {
        "id": "EUwSVzfAdytA"
      },
      "source": [
        "#Creating the data \n",
        "x1 = np.array(data['index']) \n",
        "x2 = np.array(data['TrendLineCoeff']) \n",
        "x3 = np.array(data['State/UnionTerrirory'])\n",
        "X = np.array(list(zip(x1, x2))).reshape(len(x1), 2) "
      ],
      "execution_count": 6,
      "outputs": []
    },
    {
      "cell_type": "code",
      "metadata": {
        "id": "P2NE6oqgd04k",
        "outputId": "d3fd43c3-0f69-4fb0-e600-77578fe1dbc2",
        "colab": {
          "base_uri": "https://localhost:8080/",
          "height": 34
        }
      },
      "source": [
        "max(x2),len(x1)"
      ],
      "execution_count": 7,
      "outputs": [
        {
          "output_type": "execute_result",
          "data": {
            "text/plain": [
              "(6214.9634550381115, 36)"
            ]
          },
          "metadata": {
            "tags": []
          },
          "execution_count": 7
        }
      ]
    },
    {
      "cell_type": "code",
      "metadata": {
        "id": "JW-oJVnqd3V4",
        "outputId": "c4b68d8d-bb35-4138-8291-0ee6300cd5d4",
        "colab": {
          "base_uri": "https://localhost:8080/",
          "height": 629
        }
      },
      "source": [
        "states_dict = dict(zip(list(x1),list(x3)))\n",
        "states_dict\n"
      ],
      "execution_count": 8,
      "outputs": [
        {
          "output_type": "execute_result",
          "data": {
            "text/plain": [
              "{0: 'Andhra Pradesh',\n",
              " 1: 'Himachal Pradesh',\n",
              " 2: 'Odisha',\n",
              " 3: 'Madhya Pradesh',\n",
              " 4: 'Nagaland',\n",
              " 5: 'Manipur',\n",
              " 6: 'Delhi',\n",
              " 7: 'Mizoram',\n",
              " 8: 'Gujarat',\n",
              " 9: 'Maharashtra',\n",
              " 10: 'Andaman and Nicobar Islands',\n",
              " 11: 'Jammu and Kashmir',\n",
              " 12: 'Kerala',\n",
              " 13: 'Meghalaya',\n",
              " 14: 'Goa',\n",
              " 15: 'West Bengal',\n",
              " 16: 'Ladakh',\n",
              " 17: 'Uttarakhand',\n",
              " 18: 'Haryana',\n",
              " 19: 'Karnataka',\n",
              " 20: 'Puducherry',\n",
              " 21: 'Assam',\n",
              " 22: 'Rajasthan',\n",
              " 23: 'Uttar Pradesh',\n",
              " 24: 'Jharkhand',\n",
              " 25: 'Arunachal Pradesh',\n",
              " 26: 'Chhattisgarh',\n",
              " 27: 'Tamil Nadu',\n",
              " 28: 'Tripura',\n",
              " 29: 'Dadar Nagar Haveli',\n",
              " 30: 'Daman & Diu',\n",
              " 31: 'Sikkim',\n",
              " 32: 'Bihar',\n",
              " 33: 'Telangana',\n",
              " 34: 'Chandigarh',\n",
              " 35: 'Punjab'}"
            ]
          },
          "metadata": {
            "tags": []
          },
          "execution_count": 8
        }
      ]
    },
    {
      "cell_type": "code",
      "metadata": {
        "id": "oGSL_UhQd5Sy",
        "outputId": "e5fb857a-ab97-4489-8760-cbd1402ef09c",
        "colab": {
          "base_uri": "https://localhost:8080/",
          "height": 281
        }
      },
      "source": [
        "\n",
        "\n",
        "#Visualizing the data \n",
        "plt.plot() \n",
        "plt.xlim([0, 36]) \n",
        "plt.ylim([0, max(x2)]) \n",
        "plt.title('Dataset') \n",
        "plt.scatter(x1, x2) \n",
        "plt.show() \n"
      ],
      "execution_count": 9,
      "outputs": [
        {
          "output_type": "display_data",
          "data": {
            "image/png": "[encoded data removed]",
            "text/plain": [
              "<Figure size 432x288 with 1 Axes>"
            ]
          },
          "metadata": {
            "tags": [],
            "needs_background": "light"
          }
        }
      ]
    },
    {
      "cell_type": "code",
      "metadata": {
        "id": "KXWWM4Bjd7jC",
        "outputId": "f9dcdfc5-2afe-415f-c881-42e3a6a83eb3",
        "colab": {
          "base_uri": "https://localhost:8080/",
          "height": 170
        }
      },
      "source": [
        "distortions = [] \n",
        "inertias = [] \n",
        "mapping1 = {} \n",
        "mapping2 = {} \n",
        "K = range(1,10) \n",
        "\n",
        "for k in K: \n",
        "\t#Building and fitting the model \n",
        "\tkmeanModel = KMeans(n_clusters=k).fit(X) \n",
        "\tkmeanModel.fit(X)\t \n",
        "\t\n",
        "\tdistortions.append(sum(np.min(cdist(X, kmeanModel.cluster_centers_, \n",
        "\t\t\t\t\t'euclidean'),axis=1)) / X.shape[0]) \n",
        "\tinertias.append(kmeanModel.inertia_) \n",
        "\n",
        "\tmapping1[k] = sum(np.min(cdist(X, kmeanModel.cluster_centers_, \n",
        "\t\t\t\t'euclidean'),axis=1)) / X.shape[0] \n",
        "\tmapping2[k] = kmeanModel.inertia_ \n",
        "\n",
        "for key,val in mapping1.items(): \n",
        "\tprint(str(key)+' : '+str(val)) \n"
      ],
      "execution_count": 10,
      "outputs": [
        {
          "output_type": "stream",
          "text": [
            "1 : 794.538015095212\n",
            "2 : 465.3652503029494\n",
            "3 : 340.20759406234646\n",
            "4 : 195.03138365824404\n",
            "5 : 108.88130591425686\n",
            "6 : 81.72709744937544\n",
            "7 : 70.16356024226832\n",
            "8 : 57.42532836543248\n",
            "9 : 46.30900659354771\n"
          ],
          "name": "stdout"
        }
      ]
    },
    {
      "cell_type": "code",
      "metadata": {
        "id": "ncXLVLHSd9l5",
        "outputId": "ee5e9b82-cc97-4b13-9a0e-bfcc0134e853",
        "colab": {
          "base_uri": "https://localhost:8080/",
          "height": 295
        }
      },
      "source": [
        "plt.plot(K, distortions, 'bx-') \n",
        "plt.xlabel('Values of K') \n",
        "plt.ylabel('Distortion') \n",
        "plt.title('The Elbow Method using Distortion') \n",
        "plt.show() \n"
      ],
      "execution_count": 11,
      "outputs": [
        {
          "output_type": "display_data",
          "data": {
            "image/png": "[encoded data removed]",
            "text/plain": [
              "<Figure size 432x288 with 1 Axes>"
            ]
          },
          "metadata": {
            "tags": [],
            "needs_background": "light"
          }
        }
      ]
    },
    {
      "cell_type": "code",
      "metadata": {
        "id": "5jxrZxC9d_i7",
        "outputId": "ca31aeed-c416-496d-8dfe-531021734301",
        "colab": {
          "base_uri": "https://localhost:8080/",
          "height": 170
        }
      },
      "source": [
        "for key,val in mapping2.items(): \n",
        "\tprint(str(key)+' : '+str(val)) \n"
      ],
      "execution_count": 12,
      "outputs": [
        {
          "output_type": "stream",
          "text": [
            "1 : 54090826.04797382\n",
            "2 : 14771077.812552135\n",
            "3 : 6168362.1708548805\n",
            "4 : 1868541.3887084287\n",
            "5 : 865529.0318779777\n",
            "6 : 442256.1052286014\n",
            "7 : 288821.52654494357\n",
            "8 : 185979.40120473897\n",
            "9 : 123345.25784287867\n"
          ],
          "name": "stdout"
        }
      ]
    },
    {
      "cell_type": "code",
      "metadata": {
        "id": "WbQ6j3g8eB9V",
        "outputId": "a4a74201-2d28-4114-b7ce-28af792b914a",
        "colab": {
          "base_uri": "https://localhost:8080/",
          "height": 295
        }
      },
      "source": [
        "plt.plot(K, inertias, 'bx-') \n",
        "plt.xlabel('Values of K') \n",
        "plt.ylabel('Inertia') \n",
        "plt.title('The Elbow Method using Inertia') \n",
        "plt.show() \n"
      ],
      "execution_count": 13,
      "outputs": [
        {
          "output_type": "display_data",
          "data": {
            "image/png": "[encoded data removed]",
            "text/plain": [
              "<Figure size 432x288 with 1 Axes>"
            ]
          },
          "metadata": {
            "tags": [],
            "needs_background": "light"
          }
        }
      ]
    },
    {
      "cell_type": "code",
      "metadata": {
        "id": "InXJjq2VeEMM"
      },
      "source": [
        ""
      ],
      "execution_count": null,
      "outputs": []
    },
    {
      "cell_type": "markdown",
      "metadata": {
        "id": "NhX6fI36eJLN"
      },
      "source": [
        "k=4 ??"
      ]
    },
    {
      "cell_type": "code",
      "metadata": {
        "id": "cflZXXNyeKPv"
      },
      "source": [
        ""
      ],
      "execution_count": null,
      "outputs": []
    }
  ]
}